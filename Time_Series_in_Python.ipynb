{
  "nbformat": 4,
  "nbformat_minor": 0,
  "metadata": {
    "colab": {
      "provenance": [],
      "authorship_tag": "ABX9TyNsfOjJDmbNtSgk66ePtjME",
      "include_colab_link": true
    },
    "kernelspec": {
      "name": "python3",
      "display_name": "Python 3"
    },
    "language_info": {
      "name": "python"
    }
  },
  "cells": [
    {
      "cell_type": "markdown",
      "metadata": {
        "id": "view-in-github",
        "colab_type": "text"
      },
      "source": [
        "<a href=\"https://colab.research.google.com/github/christianabusca/serpentoncode/blob/main/Time_Series_in_Python.ipynb\" target=\"_parent\"><img src=\"https://colab.research.google.com/assets/colab-badge.svg\" alt=\"Open In Colab\"/></a>"
      ]
    },
    {
      "cell_type": "markdown",
      "source": [
        "# **1. MANIPULATING TIME SERIES DATA IN PYTHON**"
      ],
      "metadata": {
        "id": "9nKUIyj7leHp"
      }
    },
    {
      "cell_type": "markdown",
      "source": [
        "## **How to use dates & times with pandas**\n",
        "\n",
        "Pandas was developed to analyze financial data that often come as time series and has powerful functionality making it easier.\n",
        "\n",
        "Data & Time Series Functionality\n",
        "- At the root: Data Types for Data & Time information.\n",
        "  - Objects for points in time and periods\n",
        "  - Attributes & Methods reflect time-related details.\n",
        "- Sequences of dates & periods:\n",
        "  - Series or DataFrame Columns\n",
        "  - Index: Convert object into Time Series.\n",
        "- Many Series/ DataFrame methods rely on time information in the index to provide time-series functionality.\n",
        "\n",
        "Basic Building block: pd.Timestamp\n",
        "- Using pandas library and python's builtin datetime class, you can create a pandas Timestamp\n",
        "\n",
        "```\n",
        "import pandas as pd\n",
        "frome datetime import datetime\n",
        "time_stamp = pd.Timestamp(datetime(2017, 1, 1))\n",
        "```\n",
        "- You can also use a Date String instead of a DateTime object.\n",
        "```\n",
        "import pandas as pd\n",
        "frome datetime import datetime\n",
        "pd.Timestamp('2017-01-01') == time_stamp\n",
        "```\n",
        "\n"
      ],
      "metadata": {
        "id": "cbQ1uq4ls5pH"
      }
    },
    {
      "cell_type": "code",
      "execution_count": null,
      "metadata": {
        "id": "c6YOFhVPkl1h",
        "colab": {
          "base_uri": "https://localhost:8080/"
        },
        "outputId": "0e320b1a-f1be-43ea-8268-36e61f5b3821"
      },
      "outputs": [
        {
          "output_type": "execute_result",
          "data": {
            "text/plain": [
              "Timestamp('2017-01-01 00:00:00')"
            ]
          },
          "metadata": {},
          "execution_count": 2
        }
      ],
      "source": [
        "# CODE 1\n",
        "import pandas as pd\n",
        "from datetime import datetime\n",
        "time_stamp = pd.Timestamp('2017-01-01')\n",
        "time_stamp"
      ]
    },
    {
      "cell_type": "code",
      "source": [
        "# CODE 2\n",
        "import pandas as pd\n",
        "from datetime import datetime\n",
        "time_stamp = pd.Timestamp(datetime(2017, 1, 1))\n",
        "time_stamp"
      ],
      "metadata": {
        "colab": {
          "base_uri": "https://localhost:8080/"
        },
        "id": "MSMsa-MxURB-",
        "outputId": "f169b912-9c72-4add-fdc4-7beefd91f82d"
      },
      "execution_count": null,
      "outputs": [
        {
          "output_type": "execute_result",
          "data": {
            "text/plain": [
              "Timestamp('2017-01-01 00:00:00')"
            ]
          },
          "metadata": {},
          "execution_count": 7
        }
      ]
    },
    {
      "cell_type": "markdown",
      "source": [
        "- Both of the codes produce the same result and the time is automatically set to midnight.\n",
        "\n",
        "- Timestamp object has many attributes to store time-specific information"
      ],
      "metadata": {
        "id": "X0d0z6c3UmUd"
      }
    },
    {
      "cell_type": "code",
      "source": [
        "time_stamp.year # RETRIEVES THE YEAR"
      ],
      "metadata": {
        "colab": {
          "base_uri": "https://localhost:8080/"
        },
        "id": "n-UB_vpmU0yQ",
        "outputId": "996b27dd-c1cc-4104-da79-35adfa471992"
      },
      "execution_count": null,
      "outputs": [
        {
          "output_type": "execute_result",
          "data": {
            "text/plain": [
              "2017"
            ]
          },
          "metadata": {},
          "execution_count": 8
        }
      ]
    },
    {
      "cell_type": "code",
      "source": [
        "time_stamp.day_name() # RETRIEVES THE NAME OF THE WEEKDAY"
      ],
      "metadata": {
        "colab": {
          "base_uri": "https://localhost:8080/",
          "height": 35
        },
        "id": "nL0U8CQmU5V5",
        "outputId": "58ee4ca3-72a2-4122-f3e3-70dc5486e03d"
      },
      "execution_count": null,
      "outputs": [
        {
          "output_type": "execute_result",
          "data": {
            "text/plain": [
              "'Sunday'"
            ],
            "application/vnd.google.colaboratory.intrinsic+json": {
              "type": "string"
            }
          },
          "metadata": {},
          "execution_count": 9
        }
      ]
    },
    {
      "cell_type": "markdown",
      "source": [
        "- Data Type for Time Periods\n",
        "  - The period object always has a frequency with months as default.\n",
        "\n",
        "```\n",
        "period = pd.Period('2017-01')\n",
        "```\n",
        "- Period object has freq. attribute to store frequency info.\n",
        "- It also has a method to convert between frequencies, for instance from monthly to daily frequency.\n",
        "```\n",
        "period.asfreq('D') # convert to daily\n",
        "```\n",
        "\n",
        "\n",
        "\n"
      ],
      "metadata": {
        "id": "XQrwH0ZIU-pn"
      }
    },
    {
      "cell_type": "code",
      "source": [
        "period = pd.Period('2017-01')\n",
        "period"
      ],
      "metadata": {
        "colab": {
          "base_uri": "https://localhost:8080/"
        },
        "id": "NoDY4QR_VHMX",
        "outputId": "c5e1b68d-7125-41f8-f64f-948ede2ed9ca"
      },
      "execution_count": null,
      "outputs": [
        {
          "output_type": "execute_result",
          "data": {
            "text/plain": [
              "Period('2017-01', 'M')"
            ]
          },
          "metadata": {},
          "execution_count": 11
        }
      ]
    },
    {
      "cell_type": "code",
      "source": [
        "period.asfreq('D') # THIS CONVERTS INTO PERIOD TO TIMESTAMP OBJECT"
      ],
      "metadata": {
        "colab": {
          "base_uri": "https://localhost:8080/"
        },
        "id": "r-m5TrW0YKV6",
        "outputId": "edfdab87-24d3-425c-d861-63fac5342af6"
      },
      "execution_count": null,
      "outputs": [
        {
          "output_type": "execute_result",
          "data": {
            "text/plain": [
              "Period('2017-01-31', 'D')"
            ]
          },
          "metadata": {},
          "execution_count": 12
        }
      ]
    },
    {
      "cell_type": "code",
      "source": [
        "# CONVERTING PERIOD TO A TIME STAMP OBJECT, AND A TIMESTAMP BACK TO A PERIOD OBJECT.\n",
        "period.to_timestamp().to_period('M')"
      ],
      "metadata": {
        "colab": {
          "base_uri": "https://localhost:8080/"
        },
        "id": "rbVEas10YPK7",
        "outputId": "c3bd6335-7546-4f5a-81b0-b1b71cc92a76"
      },
      "execution_count": null,
      "outputs": [
        {
          "output_type": "execute_result",
          "data": {
            "text/plain": [
              "Period('2017-01', 'M')"
            ]
          },
          "metadata": {},
          "execution_count": 13
        }
      ]
    },
    {
      "cell_type": "code",
      "source": [
        "# CONVERT pd.Period() to pd.Timestamp() and back.\n",
        "# Doing the basic arithmetic.\n",
        "period + 2 # INSTEAD OF JANUARY IT BECOMES MARCH 2017"
      ],
      "metadata": {
        "colab": {
          "base_uri": "https://localhost:8080/"
        },
        "id": "Tl4UMKjPY5zg",
        "outputId": "709d8349-7bcd-4679-c5f5-ad81c4ce1960"
      },
      "execution_count": null,
      "outputs": [
        {
          "output_type": "execute_result",
          "data": {
            "text/plain": [
              "Period('2017-03', 'M')"
            ]
          },
          "metadata": {},
          "execution_count": 14
        }
      ]
    },
    {
      "cell_type": "code",
      "source": [
        "# TIMESTAMPS WHERE IT CAN ALSO HAVE FREQUENCY INFORMATION\n",
        "pd.Timestamp('2017-01-31', 'M') + 1"
      ],
      "metadata": {
        "colab": {
          "base_uri": "https://localhost:8080/",
          "height": 211
        },
        "id": "fJmF3VvHZQeD",
        "outputId": "689d74b0-b82c-4bba-fdb9-9964094d7321"
      },
      "execution_count": null,
      "outputs": [
        {
          "output_type": "error",
          "ename": "ValueError",
          "evalue": "Cannot pass a date attribute keyword argument when passing a date string; 'tz' is keyword-only",
          "traceback": [
            "\u001b[0;31m---------------------------------------------------------------------------\u001b[0m",
            "\u001b[0;31mValueError\u001b[0m                                Traceback (most recent call last)",
            "\u001b[0;32m<ipython-input-17-4e214632e999>\u001b[0m in \u001b[0;36m<cell line: 0>\u001b[0;34m()\u001b[0m\n\u001b[1;32m      1\u001b[0m \u001b[0;31m# TIMESTAMPS WHERE IT CAN ALSO HAVE FREQUENCY INFORMATION\u001b[0m\u001b[0;34m\u001b[0m\u001b[0;34m\u001b[0m\u001b[0m\n\u001b[0;32m----> 2\u001b[0;31m \u001b[0mpd\u001b[0m\u001b[0;34m.\u001b[0m\u001b[0mTimestamp\u001b[0m\u001b[0;34m(\u001b[0m\u001b[0;34m'2017-01-31'\u001b[0m\u001b[0;34m,\u001b[0m \u001b[0;34m'M'\u001b[0m\u001b[0;34m)\u001b[0m \u001b[0;34m+\u001b[0m \u001b[0;36m1\u001b[0m\u001b[0;34m\u001b[0m\u001b[0;34m\u001b[0m\u001b[0m\n\u001b[0m",
            "\u001b[0;32mtimestamps.pyx\u001b[0m in \u001b[0;36mpandas._libs.tslibs.timestamps.Timestamp.__new__\u001b[0;34m()\u001b[0m\n",
            "\u001b[0;31mValueError\u001b[0m: Cannot pass a date attribute keyword argument when passing a date string; 'tz' is keyword-only"
          ]
        }
      ]
    },
    {
      "cell_type": "code",
      "source": [],
      "metadata": {
        "id": "lveFYZ2DZQWA"
      },
      "execution_count": null,
      "outputs": []
    },
    {
      "cell_type": "markdown",
      "source": [
        "- To Create a Time Series, you need a sequence of dates and times.\n",
        "- To create a sequence of Timestamps use the pandas function date_range"
      ],
      "metadata": {
        "id": "Cbh85AZnaG_3"
      }
    },
    {
      "cell_type": "code",
      "source": [
        "index = pd.date_range(start = '2017-1-1', periods = 12, freq ='M') # THE DEFAULT IS DAILT FREQUENCY\n",
        "index\n",
        "# pd.DateTimeIndex: sequence of Timestamp objects with frequecy info."
      ],
      "metadata": {
        "colab": {
          "base_uri": "https://localhost:8080/"
        },
        "id": "sCN16WqjaTU7",
        "outputId": "bc71f575-c172-43d8-d086-f8466abc6140"
      },
      "execution_count": null,
      "outputs": [
        {
          "output_type": "stream",
          "name": "stderr",
          "text": [
            "<ipython-input-19-3334c84c3934>:1: FutureWarning: 'M' is deprecated and will be removed in a future version, please use 'ME' instead.\n",
            "  index = pd.date_range(start = '2017-1-1', periods = 12, freq ='M')\n"
          ]
        },
        {
          "output_type": "execute_result",
          "data": {
            "text/plain": [
              "DatetimeIndex(['2017-01-31', '2017-02-28', '2017-03-31', '2017-04-30',\n",
              "               '2017-05-31', '2017-06-30', '2017-07-31', '2017-08-31',\n",
              "               '2017-09-30', '2017-10-31', '2017-11-30', '2017-12-31'],\n",
              "              dtype='datetime64[ns]', freq='ME')"
            ]
          },
          "metadata": {},
          "execution_count": 19
        }
      ]
    },
    {
      "cell_type": "code",
      "source": [
        "# Converting the index to a PeriodIndex, just like in Timestamps to Period Objects\n",
        "index[0]\n",
        "index.to_period()"
      ],
      "metadata": {
        "colab": {
          "base_uri": "https://localhost:8080/"
        },
        "id": "IAZCL2d-ar-S",
        "outputId": "da5748e9-8c81-4f9f-e1b9-4f641648bda6"
      },
      "execution_count": null,
      "outputs": [
        {
          "output_type": "execute_result",
          "data": {
            "text/plain": [
              "PeriodIndex(['2017-01', '2017-02', '2017-03', '2017-04', '2017-05', '2017-06',\n",
              "             '2017-07', '2017-08', '2017-09', '2017-10', '2017-11', '2017-12'],\n",
              "            dtype='period[M]')"
            ]
          },
          "metadata": {},
          "execution_count": 21
        }
      ]
    },
    {
      "cell_type": "code",
      "source": [
        "# CREATE A TIME SERIES: pd.DateTimeIndex\n",
        "pd.DataFrame({'data': index}).info()"
      ],
      "metadata": {
        "colab": {
          "base_uri": "https://localhost:8080/"
        },
        "id": "T7ZNtJQxa7Mh",
        "outputId": "f493387b-75f2-4654-fce8-5876b19d2950"
      },
      "execution_count": null,
      "outputs": [
        {
          "output_type": "stream",
          "name": "stdout",
          "text": [
            "<class 'pandas.core.frame.DataFrame'>\n",
            "RangeIndex: 12 entries, 0 to 11\n",
            "Data columns (total 1 columns):\n",
            " #   Column  Non-Null Count  Dtype         \n",
            "---  ------  --------------  -----         \n",
            " 0   data    12 non-null     datetime64[ns]\n",
            "dtypes: datetime64[ns](1)\n",
            "memory usage: 228.0 bytes\n"
          ]
        }
      ]
    },
    {
      "cell_type": "code",
      "source": [
        "# CREATING 12 ROWS WITH TWO COLUMNS OF RANDOM DATA TO MATCH THE DATATIMEINDEX\n",
        "# np.random.random\n",
        "  # Random Numbers: [0,1]\n",
        "  # 12 rows, 2\n",
        "import numpy as np\n",
        "data = np.random.random(size = (12, 2))\n",
        "pd.DataFrame(data = data, index = index).info()"
      ],
      "metadata": {
        "colab": {
          "base_uri": "https://localhost:8080/"
        },
        "id": "3H0waIWpbJNb",
        "outputId": "03046713-bdf8-4eff-f5c7-f44cbee91bc1"
      },
      "execution_count": null,
      "outputs": [
        {
          "output_type": "stream",
          "name": "stdout",
          "text": [
            "<class 'pandas.core.frame.DataFrame'>\n",
            "DatetimeIndex: 12 entries, 2017-01-31 to 2017-12-31\n",
            "Freq: ME\n",
            "Data columns (total 2 columns):\n",
            " #   Column  Non-Null Count  Dtype  \n",
            "---  ------  --------------  -----  \n",
            " 0   0       12 non-null     float64\n",
            " 1   1       12 non-null     float64\n",
            "dtypes: float64(2)\n",
            "memory usage: 588.0 bytes\n"
          ]
        }
      ]
    },
    {
      "cell_type": "markdown",
      "source": [
        "- Pandas allows you to create and convert between many different frequencies.\n",
        "- Some may also be set to the beginning or end of the period, or use business instead of calendar periods.\n",
        "- Frequency aliases & time info\n",
        "![image.png](data:image/png;base64,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)\n"
      ],
      "metadata": {
        "id": "cxerqsyobnWX"
      }
    },
    {
      "cell_type": "code",
      "source": [
        "# Create the range of dates here\n",
        "seven_days = pd.date_range(start = '2017-1-1', periods = 7)\n",
        "\n",
        "# Iterate over the dates and print the number and name of the weekday\n",
        "for day in seven_days:\n",
        "    print(day.dayofweek, day.day_name())"
      ],
      "metadata": {
        "colab": {
          "base_uri": "https://localhost:8080/"
        },
        "id": "CqHuEK2oSb82",
        "outputId": "ac58b18d-249a-41db-fd6d-3d43b72af6c5"
      },
      "execution_count": null,
      "outputs": [
        {
          "output_type": "stream",
          "name": "stdout",
          "text": [
            "6 Sunday\n",
            "0 Monday\n",
            "1 Tuesday\n",
            "2 Wednesday\n",
            "3 Thursday\n",
            "4 Friday\n",
            "5 Saturday\n"
          ]
        }
      ]
    },
    {
      "cell_type": "markdown",
      "source": [
        "## **INDEXING & RESAMPLING TIME SERIES**\n",
        "\n",
        "TIME SERIES TRANSFORMATION\n",
        "- Basic Time Series Transformations include:\n",
        "  - Parsing string dates and convert to datetime64\n",
        "  - Selecting & Slicing for specific subperiods.\n",
        "  - Setting & Changing DateTimeIndex frequency.\n",
        "    - Changing the frequency to a higher or lower value\n",
        "    - Upsampling: Involves increasing the time frequency, which requires generating new data.\n",
        "    - Downsampling: Involves decreasing the frequency, which requires aggregating data."
      ],
      "metadata": {
        "id": "vSFQ1CiQSj4U"
      }
    },
    {
      "cell_type": "code",
      "source": [
        "# Getting GOOG Stock Prices\n",
        "# To convert the strings to the correct datatype\n",
        "# pd.to_datetime()\n",
        "  # Parse Date String\n",
        "  # Convert to datetime64e\n",
        "tablename.date = pd.to_Datetime(google.date)\n",
        "tablename.info()\n",
        "\n",
        "#Converting string dates to np.datetime64\n",
        "  # .set_index():\n",
        "    # Date into index\n",
        "    # inplace:\n",
        "      # don't create copy\n",
        "tablename.set_index('date', inplace = True)\n",
        "tablename.info()\n",
        "# PLOTTING THE TIMESERIES\n",
        "tablename.price.plot(title = 'Google Stock Price')\n",
        "plt.tight_layout(); plt.show()\n",
        "\n",
        "# Partial String Indexing\n",
        "  # Selecting/indexing using strings that parse to dates\n",
        "tablename['date'].info() # PASS STRING FOR PART OF DATE\n",
        "  # Passing a slice where it has a start and an end\n",
        "tablename['2015-3':'2016-2'].info()\n",
        "\n",
        "# NOTE THAT THE DATE RANGE WILL BE INCLUSIVE OF THE END DATE,\n",
        "# DIFFERENT FROM OTHER INTERVALS IN PYTHON\n",
        "\n",
        "# PARTIAL STRING INDEXING\n",
        "# USING .loc WITH A COMPLETE DATE AND A COLUMN LABEL\n",
        "# TO SELECT A SPECIFIC STOCK PRICE\n",
        "tablename.loc['yyyy-mmm-dd', 'column'] # use full date with .loc[]\n",
        "\n",
        "# asfreq(): set frequency\n",
        "  # You can set the frequency information using .asfreq()\n",
        "  # .asfreq('D'):\n",
        "    # Convert DateTimeIndex to calendar day frequency\n",
        "tablename.asfreq('D').info() # SET CALENDAR DAY FREQUENCY\n",
        "# The alias 'D' stands for calendar day frequency.\n",
        "\n",
        "# asfreq(): reset frequency\n",
        "  # FOR BUSINESS DAY FREQUENCY\n",
        "  # .asfreq('B'):\n",
        "    # Convert DateTimeIndex to business day frequency\n",
        "tablename = tablename.asfreq('B') # Change to calendar day frequency\n",
        "tablename.info()\n",
        "\n",
        "tablename[tablename.columnname.isnull()] # SELECTING MISSING COLUMN VALUES\n"
      ],
      "metadata": {
        "id": "ntxwvCjFaj8C"
      },
      "execution_count": null,
      "outputs": []
    },
    {
      "cell_type": "code",
      "source": [
        "data = pd.read_csv('nyc.csv')\n",
        "\n",
        "# Inspect data\n",
        "print(data.info())\n",
        "\n",
        "# Convert the date column to datetime64\n",
        "data.date = pd.to_datetime(data.date)\n",
        "\n",
        "# Set date column as index\n",
        "data.set_index('date', inplace=True)\n",
        "\n",
        "# Inspect data\n",
        "print(data.info())\n",
        "\n",
        "# Plot data\n",
        "data.plot(subplots = True)\n",
        "plt.show()\n"
      ],
      "metadata": {
        "id": "V17inLb-a-zU"
      },
      "execution_count": null,
      "outputs": []
    },
    {
      "cell_type": "code",
      "source": [
        "# Inspect data\n",
        "print(co.info())\n",
        "\n",
        "# Set the frequency to calendar daily\n",
        "co = co.asfreq('D')\n",
        "\n",
        "# Plot the data\n",
        "co.plot(subplots = True)\n",
        "plt.show()\n",
        "\n",
        "# Set frequency to monthly\n",
        "co = co.asfreq('M')\n",
        "\n",
        "# Plot the data\n",
        "co.plot(subplots = True)\n",
        "plt.show()\n",
        "\n"
      ],
      "metadata": {
        "id": "dsgD11vsvsOv"
      },
      "execution_count": null,
      "outputs": []
    },
    {
      "cell_type": "markdown",
      "source": [
        "## **Lags, changes, and returns for stock price series**\n",
        "\n",
        "- Basic Time Series Calculations\n",
        "  - Typical Time Series Manipulation include:\n",
        "    - Shift or lag values back or forward back in time.\n",
        "    - Get the difference in value for a given time period.\n",
        "    - Compute the percent change over any number of periods.\n",
        "- pandas built-in methods rely on pd.DateTimeIndex\n"
      ],
      "metadata": {
        "id": "_2FLN-_yv0KM"
      }
    },
    {
      "cell_type": "code",
      "source": [
        "# GETTING GOOG STOCK PRICES\n",
        "tablename = pd.read_csv('table.csv', parse_dates=['date'], index_col='date')\n",
        "# INSTEAD OF .datetime function, you can tell read_csv to parse certain columns\n",
        "# as dates 'just provide one or more target labels as a list.\n",
        "\n",
        "# .shift(): Moving data between past and future\n",
        "# .shift():\n",
        "  # defaults to periods = 1\n",
        "  # 1 period into future\n",
        "table['shifted'] = table.column.shift() # default: periods = 1\n",
        "table.head()\n",
        "\n",
        "# .shift(periods =-1)\n",
        "  # lagged data\n",
        "  # 1 period back in time\n",
        "table['shifted'] = table.column.shift(periods=-1) # default: periods = 1\n",
        "table.head[['price', 'lagged', 'shifted']].tail(3)\n",
        "# Shifting data is useful to compare data at different points in time.\n",
        "\n"
      ],
      "metadata": {
        "id": "BFKqerGH2-29"
      },
      "execution_count": null,
      "outputs": []
    },
    {
      "cell_type": "markdown",
      "source": [
        "\n",
        "- Calculating change from period to period, which is called financial return in finance\n",
        "- Where $\\frac{X_t}{X_{t-1}}$\n",
        "\n",
        "\n",
        "```\n",
        "table['change'] = table.column.div(table.shifted)\n",
        "```\n",
        "- The method .div, allows you not only to divide a Series by a value, but by an entire Series.\n",
        "- For example by another column in the same DataFrame.\n",
        "\n",
        "- Chaning all DataFrame methods that return a DataFrame\n",
        "- Calculating one-period percent change\n",
        "```\n",
        "table['return'] = table.change.sub(1).mul(100)\n",
        "table[['price', 'shifted', 'change', 'return']].head(3)\n",
        "```\n",
        "- The returned dataframe will be used as an input for the next calculation.\n",
        "\n",
        "**Another time series method**\n",
        "- diff(): built-in time-series change\n",
        "- Difference in valye for two adjacent periods\n",
        "- Where $X_t - X_{t-1}$\n",
        "```\n",
        "google['diff'] = google.price.diff()\n",
        "```\n",
        "- This calcullate the change between values at different points in time.\n",
        "\n",
        "- pct_change(): built-in time-series % change\n",
        "  - Percent change for two adjacent periods\n",
        "  - Where $\\frac{X_t}{X_{t-1}}$\n",
        "```\n",
        "google['pct_change'] = google.price.pct_change().mul(100)\n",
        "google[['price', 'return', 'pct_change']].head(3)\n",
        "```\n",
        "\n",
        "- Looking ahead: Get multi-period returns\n",
        "```\n",
        "google['return_3d'] = google.price.pct_change(periods=3).mul(100)\n",
        "google[['price', 'return_3d']].head()\n",
        "```\n"
      ],
      "metadata": {
        "id": "155IVARJcB_b"
      }
    },
    {
      "cell_type": "code",
      "source": [
        "# Import data here\n",
        "google = pd.read_csv('google.csv', parse_dates=['Date'], index_col='Date')\n",
        "\n",
        "# Set data frequency to business daily\n",
        "google = google.asfreq('B')\n",
        "\n",
        "# Create 'lagged' and 'shifted'\n",
        "google['lagged'] = google.Close.shift(periods = -90)\n",
        "google['shifted'] = google.Close.shift(periods = 90)\n",
        "\n",
        "# Plot the google price series\n",
        "google.plot()\n",
        "plt.show()\n",
        "\n",
        "\n"
      ],
      "metadata": {
        "id": "7eg1z1o8gIBK"
      },
      "execution_count": null,
      "outputs": []
    },
    {
      "cell_type": "code",
      "source": [
        "# Created shifted_30 here\n",
        "yahoo['shifted_30'] = yahoo.price.shift(periods=30)\n",
        "\n",
        "# Subtract shifted_30 from price\n",
        "yahoo['change_30'] = yahoo.price.sub(yahoo['shifted_30'])\n",
        "\n",
        "# Get the 30-day price difference\n",
        "yahoo['diff_30'] =  yahoo.price.diff(periods = 30)\n",
        "\n",
        "# Inspect the last five rows of price\n",
        "print(yahoo['price'].tail())\n",
        "\n",
        "# Show the value_counts of the difference between change_30 and diff_30\n",
        "print((yahoo['change_30'] - yahoo['diff_30']).value_counts())\n"
      ],
      "metadata": {
        "id": "JdgX60oxiv5d"
      },
      "execution_count": null,
      "outputs": []
    },
    {
      "cell_type": "code",
      "source": [
        "# Create daily_return\n",
        "google['daily_return'] = google.Close.pct_change(periods = 1).mul(100)\n",
        "\n",
        "# Create monthly_return\n",
        "google['monthly_return'] = google.Close.pct_change(periods = 30).mul(100)\n",
        "\n",
        "# Create annual_return\n",
        "google['annual_return'] = google.Close.pct_change(periods = 360).mul(100)\n",
        "\n",
        "# Plot the result\n",
        "google.plot(subplots=True)\n",
        "plt.show()"
      ],
      "metadata": {
        "id": "8nt9HJA1kAX2"
      },
      "execution_count": null,
      "outputs": []
    },
    {
      "cell_type": "markdown",
      "source": [
        "## **Compare time series growth rates**\n",
        "\n"
      ],
      "metadata": {
        "id": "FAhCtbZ1kR7y"
      }
    },
    {
      "cell_type": "markdown",
      "source": [],
      "metadata": {
        "id": "PtISQzg2d-13"
      }
    },
    {
      "cell_type": "code",
      "source": [],
      "metadata": {
        "id": "9IC3XB0UFkPX"
      },
      "execution_count": null,
      "outputs": []
    },
    {
      "cell_type": "markdown",
      "source": [],
      "metadata": {
        "id": "1aYYMoRxbnQ3"
      }
    }
  ]
}