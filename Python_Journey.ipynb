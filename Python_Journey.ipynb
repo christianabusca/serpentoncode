{
  "nbformat": 4,
  "nbformat_minor": 0,
  "metadata": {
    "colab": {
      "provenance": [],
      "authorship_tag": "ABX9TyNMVIjbwKIbO4zQVBU4Lsfo",
      "include_colab_link": true
    },
    "kernelspec": {
      "name": "python3",
      "display_name": "Python 3"
    },
    "language_info": {
      "name": "python"
    }
  },
  "cells": [
    {
      "cell_type": "markdown",
      "metadata": {
        "id": "view-in-github",
        "colab_type": "text"
      },
      "source": [
        "<a href=\"https://colab.research.google.com/github/christianabusca/serpentoncode/blob/main/Python_Journey.ipynb\" target=\"_parent\"><img src=\"https://colab.research.google.com/assets/colab-badge.svg\" alt=\"Open In Colab\"/></a>"
      ]
    },
    {
      "cell_type": "markdown",
      "source": [
        "# **BEGINNER PYTHON FOR DEVS**"
      ],
      "metadata": {
        "id": "Maro1HfWU8ib"
      }
    },
    {
      "cell_type": "code",
      "source": [
        "def mystery_function1(word):\n",
        "  vowels = ['a', 'e', 'i', 'o', 'u']\n",
        "  while word[0] not in vowels:\n",
        "    word = word[1:] + word[0]\n",
        "    return word + 'ay'\n",
        "\n",
        "def mystery_function2(phrase):\n",
        "  words = phrase.split()\n",
        "  new_phrase = [mystery_function1(word) for word in words]\n",
        "  return ' '.join(new_phrase)\n",
        "\n",
        "mystery_function2('strawberry cheesecake')\n"
      ],
      "metadata": {
        "colab": {
          "base_uri": "https://localhost:8080/",
          "height": 35
        },
        "id": "sswQg0TwBVLE",
        "outputId": "d9cd1a6b-4f3d-4a72-d9fd-a332bed818d3"
      },
      "execution_count": null,
      "outputs": [
        {
          "output_type": "execute_result",
          "data": {
            "text/plain": [
              "'trawberrysay heesecakecay'"
            ],
            "application/vnd.google.colaboratory.intrinsic+json": {
              "type": "string"
            }
          },
          "metadata": {},
          "execution_count": 2
        }
      ]
    },
    {
      "cell_type": "markdown",
      "source": [
        "\n",
        "\n",
        "```\n",
        "# WORKING WITH STRINGS\n",
        "```\n",
        "\n"
      ],
      "metadata": {
        "id": "5X1AK18DxLBH"
      }
    },
    {
      "cell_type": "code",
      "execution_count": null,
      "metadata": {
        "colab": {
          "base_uri": "https://localhost:8080/",
          "height": 35
        },
        "id": "1uVPUTjUt1lh",
        "outputId": "09658953-7e67-4030-da3d-d66bf46dce3d"
      },
      "outputs": [
        {
          "output_type": "execute_result",
          "data": {
            "text/plain": [
              "'Siya Drey S. Abusca'"
            ],
            "application/vnd.google.colaboratory.intrinsic+json": {
              "type": "string"
            }
          },
          "metadata": {},
          "execution_count": 1
        }
      ],
      "source": [
        "# WORKING WITH STRINGS IN PYTHON\n",
        "# STRINGS\n",
        "\n",
        "# STRINGS CAN BE USED IN SINGLE OR DOUBLE QUOTES\n",
        "# METHOD - FUNCTION THAT IS AVAILABLE IN PARTICULAR DATATYPE\n",
        "# EXAMPLE variable.method()\n",
        "\n",
        "# USING STRING REPLACE METHOD\n",
        "\n",
        "ako = \"Christian Drey S. Abusca\"\n",
        "ako = ako.replace(\"Christian\", \"Siya\")\n",
        "ako\n"
      ]
    },
    {
      "cell_type": "code",
      "source": [
        "# USING STRING METHOD TO MAKE A TEXT IN UPPER OR LOWERCASE\n",
        "aso = \"Boomiee\"\n",
        "aso = aso.lower()\n",
        "\n",
        "pusa = \"Cathy\"\n",
        "pusa = pusa.upper()\n",
        "aso, pusa"
      ],
      "metadata": {
        "colab": {
          "base_uri": "https://localhost:8080/"
        },
        "id": "9tX2h9S7vy6W",
        "outputId": "f35aeb4d-3877-4fbe-9656-7332599b3ca6"
      },
      "execution_count": null,
      "outputs": [
        {
          "output_type": "execute_result",
          "data": {
            "text/plain": [
              "('boomiee', 'CATHY')"
            ]
          },
          "metadata": {},
          "execution_count": 3
        }
      ]
    },
    {
      "cell_type": "code",
      "source": [
        "#MULTI-LINE STRINGS\n",
        "\n",
        "# using triple double quotes can be used in having a multi-line string\n",
        "# for example:\n",
        "\n",
        "ako = \"\"\"Metro Manila, comprised of 16 cities,\n",
        "is a prime example of rapid\n",
        "urbanization because of its tall\n",
        "buildings and busy neighbourhoods. \"\"\"\n",
        "\n",
        "ako"
      ],
      "metadata": {
        "colab": {
          "base_uri": "https://localhost:8080/",
          "height": 53
        },
        "id": "ErbLLSr3wlxB",
        "outputId": "c9a1864c-af30-4d53-bfdd-00cf0ec53e0b"
      },
      "execution_count": null,
      "outputs": [
        {
          "output_type": "execute_result",
          "data": {
            "text/plain": [
              "'Metro Manila, comprised of 16 cities, \\nis a prime example of rapid \\nurbanization because of its tall \\nbuildings and busy neighbourhoods. '"
            ],
            "application/vnd.google.colaboratory.intrinsic+json": {
              "type": "string"
            }
          },
          "metadata": {},
          "execution_count": 4
        }
      ]
    },
    {
      "cell_type": "markdown",
      "source": [
        "LIST"
      ],
      "metadata": {
        "id": "wqUfFtUcyCaU"
      }
    },
    {
      "cell_type": "code",
      "source": [
        "#LISTS = STORE MULTIPLE VALUES IN A DATATYPE IN A SINGLE VARIABLE\n",
        "\n",
        "prices = [10, 20, 30, 40, 50, 60]\n",
        "type(prices)\n",
        "\n",
        "# list are ordered\n",
        "# to subsetting = list[index]\n",
        "prices[4]\n",
        "\n",
        "# finding the last element in a list\n",
        "prices[-1]\n",
        "\n",
        "# ACCESSING MULTIPLE ELEMENTS\n",
        "# list[starting_element:last_element + 1]\n",
        "prices[1:3]\n",
        "\n",
        "# ACCESSING MULTIPLE ELEMENTS\n",
        "prices[3:] # this will access the fourth index onwards\n",
        "prices[:3] # starting to the fourth index\n",
        "\n",
        "#ALTERNATINC ACCESS\n",
        "prices[::2] #THIS HAS THE INTERVAL OF 2\n",
        "prices[1::3] #ACCESS EVERY THIRD ELEMENT IN A LIST, STARTING AT THE SECOND INDEX\n"
      ],
      "metadata": {
        "colab": {
          "base_uri": "https://localhost:8080/"
        },
        "id": "uZiC2X1dx_8K",
        "outputId": "e264437c-433a-46b2-f2da-fe8e2e304e73"
      },
      "execution_count": null,
      "outputs": [
        {
          "output_type": "execute_result",
          "data": {
            "text/plain": [
              "[10, 30, 50]"
            ]
          },
          "metadata": {},
          "execution_count": 10
        }
      ]
    },
    {
      "cell_type": "markdown",
      "source": [
        "DICTIONARIES"
      ],
      "metadata": {
        "id": "egr8cTh-0V1o"
      }
    },
    {
      "cell_type": "code",
      "source": [
        "# DICTIONARIES\n",
        "prices = [10, 20, 30, 40, 50, 60]\n",
        "product_ids = [\"AG32\", \"HT91\", \"PL65\", \"OS31\", \"KB07\", \"TR48\"]\n",
        "\n",
        "# dictionary = data structure of key-value pairs\n",
        "# USEFUL SINCE KEY AND VALUES ARE ASSOCIATED\n",
        "\n",
        "product_dict = {\"AG32\": 10,\n",
        "                \"HT91\": 20,\n",
        "                \"PL65\": 30,\n",
        "                \"OS31\": 40,\n",
        "                \"KB07\": 50,\n",
        "                \"TR48\": 60}\n",
        "product_dict\n",
        "\n",
        "# finding a specific value of a product\n",
        "product_dict[\"AG32\"]\n",
        "\n",
        "# finding all values\n",
        "product_dict.values()\n",
        "\n",
        "# finding all keys\n",
        "product_dict.keys()\n",
        "\n",
        "# finding all items\n",
        "product_dict.items()\n",
        "\n",
        "# VALUES IN PARETHESIS ARE KNOWN AS TUPLE\n",
        "\n",
        "# UPDATE A DICTIONARY\n",
        "product_dict[\"AG32\"] = 100\n",
        "product_dict"
      ],
      "metadata": {
        "colab": {
          "base_uri": "https://localhost:8080/"
        },
        "id": "U-j3WYBC0Xi4",
        "outputId": "b6ed1cfa-eb3f-40e8-d671-dd49ec567936"
      },
      "execution_count": null,
      "outputs": [
        {
          "output_type": "execute_result",
          "data": {
            "text/plain": [
              "dict_keys(['AG32', 'HT91', 'PL65', 'OS31', 'KB07', 'TR48'])"
            ]
          },
          "metadata": {},
          "execution_count": 15
        }
      ]
    },
    {
      "cell_type": "code",
      "source": [
        "# SETS\n",
        "# DATA STRUCTURE THAT stores unique information\n",
        "# 1 INSTANCE OF A SET\n",
        "\n",
        "# CAN ADD OR REMOVE VALUES BUT CANNOT CHANGE THEM\n",
        "\n",
        "# SET = {}\n",
        "# if it has : = Dictionary\n",
        "# No : = Set\n",
        "\n",
        "my_set = {\"apple\", \"banana\", \"cherry\", \"mango\", \"malunggay\", \"apple\", \"mango\"}\n",
        "my_set\n",
        "\n",
        "# CASTING - When converting a LIST into a SET\n",
        "my_list = [\"apple\", \"banana\", \"cherry\", \"mango\", \"malunggay\", \"apple\", \"mango\"]\n",
        "my_set2 = set(my_list) # THIS IS A SAMPLE OF CASTING\n",
        "type(my_set2)\n",
        "my_set2\n",
        "\n",
        "# SETS DON'T HAVE AN INDEX\n",
        "# SETS ARE UNORDERED\n",
        "\n"
      ],
      "metadata": {
        "id": "A71ifdS54-Ug",
        "colab": {
          "base_uri": "https://localhost:8080/"
        },
        "outputId": "3cd3856e-71d3-4f9b-8490-25e9a34533a2"
      },
      "execution_count": null,
      "outputs": [
        {
          "output_type": "execute_result",
          "data": {
            "text/plain": [
              "['apple', 'banana', 'cherry', 'malunggay', 'mango']"
            ]
          },
          "metadata": {},
          "execution_count": 4
        }
      ]
    },
    {
      "cell_type": "code",
      "source": [
        "# WHEN USING sorted() IT RETURNS THE SET INTO ALPHABETICAL ORDER\n",
        "my_set2 = sorted(my_set2)\n",
        "my_set2"
      ],
      "metadata": {
        "colab": {
          "base_uri": "https://localhost:8080/"
        },
        "id": "hnhhmDMC9QxY",
        "outputId": "0aeba317-0e60-44e4-c958-15df2e209a9b"
      },
      "execution_count": null,
      "outputs": [
        {
          "output_type": "execute_result",
          "data": {
            "text/plain": [
              "['apple', 'banana', 'cherry', 'malunggay', 'mango']"
            ]
          },
          "metadata": {},
          "execution_count": 5
        }
      ]
    },
    {
      "cell_type": "code",
      "source": [
        "# TUPLE\n",
        "# IMMUTABLE - CANNOT BE  CHANGED, CAN'T ADD,REMOVE OR CHANGE THE VALUE IN TUPLES\n",
        "# TUPLES ARE ORDERED, WE CAN SUBSET BY INDEX\n",
        "cities = (\"Makati\", \"Taguig\", \"Quezon\", \"Muntinlupa\", \"Manila\")\n",
        "cities\n"
      ],
      "metadata": {
        "id": "AIs-_ZGC9Wh3"
      },
      "execution_count": null,
      "outputs": []
    },
    {
      "cell_type": "code",
      "source": [
        "# WE CAN USE A FUNCTION TO CONVERT A LIST INTO A TUPLE\n",
        "my_list = [\"apple\", \"banana\", \"cherry\", \"mango\", \"malunggay\", \"apple\", \"mango\"]\n",
        "my_list_tuple = tuple(my_list)\n",
        "my_list_tuple"
      ],
      "metadata": {
        "colab": {
          "base_uri": "https://localhost:8080/"
        },
        "id": "FCbvlrbZ9xXo",
        "outputId": "14b53b13-f680-484b-91d7-421eee369258"
      },
      "execution_count": null,
      "outputs": [
        {
          "output_type": "execute_result",
          "data": {
            "text/plain": [
              "('apple', 'banana', 'cherry', 'mango', 'malunggay', 'apple', 'mango')"
            ]
          },
          "metadata": {},
          "execution_count": 6
        }
      ]
    },
    {
      "cell_type": "code",
      "source": [
        "# WE CAN ACCESS AN ELEMENT BY SEARCHING FOR AN INDEX\n",
        "my_list_tuple[3]"
      ],
      "metadata": {
        "colab": {
          "base_uri": "https://localhost:8080/",
          "height": 35
        },
        "id": "9qvtn5gP969z",
        "outputId": "e151a33f-6377-4067-e04d-34d72c379768"
      },
      "execution_count": null,
      "outputs": [
        {
          "output_type": "execute_result",
          "data": {
            "text/plain": [
              "'mango'"
            ],
            "application/vnd.google.colaboratory.intrinsic+json": {
              "type": "string"
            }
          },
          "metadata": {},
          "execution_count": 7
        }
      ]
    },
    {
      "cell_type": "markdown",
      "source": [
        "CONDITIONAL STATEMENTS AND OPERATORS"
      ],
      "metadata": {
        "id": "mBaK6w-q-pTH"
      }
    },
    {
      "cell_type": "code",
      "source": [
        "# CONDINTIONAL STATEMENTS AND OPERATORS\n",
        "\n",
        "truth = True\n",
        "print(truth)\n",
        "\n",
        "# COMPARISON OPERATORS - COMBINATIONS OF SYMBOLS TO COMPARE THINGS\n",
        "\n",
        "# == - TO CHECK THINGS IF THEY ARE EQUAL\n",
        "# EXAMPLE\n",
        "2 == 3 # FALSE\n",
        "\n",
        "# != - TO CHECK THINGS FOR INEQUALITY\n",
        "# EXAMPLE\n",
        "2 != 3 # TRUE\n",
        "\n",
        "5 < 7\n",
        "5 <= 7\n",
        "5 > 7\n",
        "5 >= 7\n",
        "\n",
        "# OTHER COMPARISONS\n",
        "\"James\" > \"Brian\"\n",
        "\n",
        "# conditional statements\n",
        "# If True perform a task, otherwise, do nothing\n",
        "\n",
        "sales_target = 350\n",
        "units_sold = 355\n",
        "\n",
        "if units_sold >= sales_target:\n",
        "  print(\"You've achieved your sales target!\")\n",
        "elif units_sold >= 320:\n",
        "  print(\"Target almost achieved\")\n",
        "else:\n",
        "  print(\"You didn't achieve your sales target\")\n",
        "\n"
      ],
      "metadata": {
        "id": "llKLS8mb_4jQ"
      },
      "execution_count": null,
      "outputs": []
    },
    {
      "cell_type": "code",
      "source": [
        "# FOR LOOPS\n",
        "\n",
        "# PRICES LIST\n",
        "prices = [9.99, 8.99, 35.25, 1.50, 5.75]\n",
        "prices[0] > 10\n",
        "\n",
        "# for value in sequence:\n",
        "#   action\n",
        "\n",
        "for price in prices:\n",
        "  if price > 10:\n",
        "    print(\"More than $10\")\n",
        "\n",
        "  elif price < 5:\n",
        "    print(\"Less than $5\")\n",
        "\n",
        "  else:\n",
        "    print(price)"
      ],
      "metadata": {
        "id": "xVCgLBlS-HR7"
      },
      "execution_count": null,
      "outputs": []
    },
    {
      "cell_type": "code",
      "source": [
        "# LOOPING IN STRINGS\n",
        "username = \"george_dc\"\n",
        "\n",
        "for char in username:\n",
        "  print(char)"
      ],
      "metadata": {
        "id": "x4bc1vzd-5tq"
      },
      "execution_count": null,
      "outputs": []
    },
    {
      "cell_type": "code",
      "source": [
        "product_dict = {\"AG32\": 87.99,\n",
        "                \"HT91\": 21.50,\n",
        "                \"PL65\": 43.75,\n",
        "                \"OS31\": 19.99,\n",
        "                \"KB07\": 62.95,\n",
        "                \"TR48\": 98.0}\n",
        "# USING FOR LOOPS IN KEYS AND VALUES\n",
        "\n",
        "for key, val in product_dict.items():\n",
        "  print(key, val) # FOR KEYS AND VALUES\n",
        "\n",
        "for key in product_dict.keys():\n",
        "  print(key) # FOR KEYS\n",
        "\n",
        "for val in product_dict.values():\n",
        "  print(val) # FOR VALUES\n",
        "\n"
      ],
      "metadata": {
        "colab": {
          "base_uri": "https://localhost:8080/"
        },
        "id": "7Ru-J31y_JPX",
        "outputId": "be4c900f-3653-4eb2-a0c2-1471fcfb7434"
      },
      "execution_count": null,
      "outputs": [
        {
          "output_type": "stream",
          "name": "stdout",
          "text": [
            "AG32 87.99\n",
            "HT91 21.5\n",
            "PL65 43.75\n",
            "OS31 19.99\n",
            "KB07 62.95\n",
            "TR48 98.0\n"
          ]
        }
      ]
    },
    {
      "cell_type": "code",
      "source": [
        "# BUILT IN FUNCTION\n",
        "# RANGE\n",
        "# range(start, end + 1)\n",
        "# start = inclusive\n",
        "# end = not inclusive\n",
        "\n",
        "# EXAMPLE\n",
        "\n",
        "for i in range(1,6):\n",
        "  print(i)\n",
        "\n",
        "visits = 0\n",
        "\n",
        "for i in range(1,11):\n",
        "  visits += 1 # SAME AS VISITS = VISITS + 1\n",
        "\n",
        "print(visits)"
      ],
      "metadata": {
        "colab": {
          "base_uri": "https://localhost:8080/"
        },
        "id": "akMCZJgL_yEn",
        "outputId": "f4347ef9-3a56-44d2-f17f-38692159ed7c"
      },
      "execution_count": null,
      "outputs": [
        {
          "output_type": "stream",
          "name": "stdout",
          "text": [
            "1\n",
            "2\n",
            "3\n",
            "4\n",
            "5\n",
            "10\n"
          ]
        }
      ]
    },
    {
      "cell_type": "code",
      "source": [
        "user_ids = [\"T42YG4KTK\", \"VTQ39IDQ0\", \"CRL11YUWX\",\n",
        "            \"K6Y5URXLR\", \"V4XCBER7V\", \"IOGQWC61K\"]\n",
        "\n",
        "# Loop through user_ids\n",
        "for user_id in user_ids:\n",
        "  # Print the user_id\n",
        "  print(user_id)"
      ],
      "metadata": {
        "id": "CfIJElEBBUIA"
      },
      "execution_count": null,
      "outputs": []
    },
    {
      "cell_type": "code",
      "source": [
        "# Create the tickets_sold variable\n",
        "tickets_sold = 0\n",
        "\n",
        "# Create the max_capacity variable\n",
        "max_capacity = 30\n",
        "\n",
        "# Loop through a range up to and including max_capacity's value\n",
        "for i in range(1, max_capacity + 1):\n",
        "  # Add one to tickets_sold in each iteration\n",
        "  tickets_sold += 1\n",
        "\n",
        "print(\"Sold out:\", tickets_sold, \"tickets sold!\")"
      ],
      "metadata": {
        "colab": {
          "base_uri": "https://localhost:8080/"
        },
        "id": "jApuaEf_BP_a",
        "outputId": "b4663c03-e435-40d9-8f02-4eacf3a03555"
      },
      "execution_count": null,
      "outputs": [
        {
          "output_type": "stream",
          "name": "stdout",
          "text": [
            "Sold out: 30 tickets sold!\n"
          ]
        }
      ]
    },
    {
      "cell_type": "code",
      "source": [
        "courses = {\"LLM Concepts\": \"AI\",\n",
        "           \"Introduction to Data Pipelines\": \"Data Engineering\",\n",
        "           \"AI Ethics\": \"AI\",\n",
        "           \"Introduction to dbt\": \"Data Engineering\",\n",
        "           \"Writing Efficient Python Code\": \"Programming\",\n",
        "           \"Introduction to Docker\": \"Programming\"}\n",
        "\n",
        "# Loop through the dictionary's keys and values\n",
        "for key, value in courses.items():\n",
        "\n",
        "  # Check if the value is \"AI\"\n",
        "  if value == \"AI\":\n",
        "    print(key, \"is an AI course\")\n",
        "\n",
        "  # Check if the value is \"Programming\"\n",
        "  elif value == \"Programming\":\n",
        "    print(key, \"is a Programming course\")\n",
        "\n",
        "  # Otherwise, print that it is a \"Data Engineering\" course\n",
        "  else:\n",
        "    print(key, \"is a Data Engineering course\")"
      ],
      "metadata": {
        "colab": {
          "base_uri": "https://localhost:8080/"
        },
        "id": "BwqrFa9jCDHi",
        "outputId": "b6967a93-18cc-471e-817e-e57962e61329"
      },
      "execution_count": null,
      "outputs": [
        {
          "output_type": "stream",
          "name": "stdout",
          "text": [
            "LLM Concepts is an AI course\n",
            "Introduction to Data Pipelines is a Data Engineering course\n",
            "AI Ethics is an AI course\n",
            "Introduction to dbt is a Data Engineering course\n",
            "Writing Efficient Python Code is a Programming course\n",
            "Introduction to Docker is a Programming course\n"
          ]
        }
      ]
    },
    {
      "cell_type": "code",
      "source": [
        "# WHILE LOOPS\n",
        "# SYNTAX OF WHILE LOOP\n",
        "\n",
        "# while condition:\n",
        "#   action\n",
        "\n",
        "# USEFUL FOR CONTINOUS TASK\n",
        "# ACCELERATE WHILE A BUTTON IS PRESSED\n",
        "\n",
        "stock = 10\n",
        "\n",
        "num_purchases = 0\n",
        "\n",
        "# WHILE num_purchases < stock limit\n",
        "while num_purchases < stock:\n",
        "  # INCREMENT num_purchases\n",
        "  num_purchases +=1\n",
        "  # PRINT REMAINING STOCK\n",
        "  print(\"Remaining stock:\", stock - num_purchases)\n",
        "\n",
        "# WE COULD use the \"break\" if we want to while loop to do it once\n"
      ],
      "metadata": {
        "id": "GOtnTTqPC2gu",
        "colab": {
          "base_uri": "https://localhost:8080/"
        },
        "outputId": "7542243b-8c47-4263-dc62-daebf6b31f45"
      },
      "execution_count": null,
      "outputs": [
        {
          "output_type": "stream",
          "name": "stdout",
          "text": [
            "Remaining stock: 9\n",
            "Remaining stock: 8\n",
            "Remaining stock: 7\n",
            "Remaining stock: 6\n",
            "Remaining stock: 5\n",
            "Remaining stock: 4\n",
            "Remaining stock: 3\n",
            "Remaining stock: 2\n",
            "Remaining stock: 1\n",
            "Remaining stock: 0\n"
          ]
        }
      ]
    },
    {
      "cell_type": "code",
      "source": [
        "stock = 10\n",
        "\n",
        "num_purchases = 0\n",
        "\n",
        "# WHILE num_purchases < stock limit\n",
        "while num_purchases < stock:\n",
        "  # INCREMENT num_purchases\n",
        "  num_purchases +=1\n",
        "  # PRINT REMAINING STOCK\n",
        "  if stock - num_purchases > 7:\n",
        "    print(\"Plenty of stock remaining\")\n",
        "  elif stock - num_purchases > 3:\n",
        "    print(\"Some stock remaining\")\n",
        "  else:\n",
        "    print(\"Low stock remaining\")\n"
      ],
      "metadata": {
        "colab": {
          "base_uri": "https://localhost:8080/"
        },
        "id": "IabEcwzCiCmj",
        "outputId": "bf9b45fb-9dc2-42af-fa5f-5c5cfeba6e06"
      },
      "execution_count": null,
      "outputs": [
        {
          "output_type": "stream",
          "name": "stdout",
          "text": [
            "Plenty of stock remaining\n",
            "Plenty of stock remaining\n",
            "Some stock remaining\n",
            "Some stock remaining\n",
            "Some stock remaining\n",
            "Some stock remaining\n",
            "Low stock remaining\n",
            "Low stock remaining\n",
            "Low stock remaining\n",
            "Low stock remaining\n"
          ]
        }
      ]
    },
    {
      "cell_type": "code",
      "source": [
        "# BUILDING A WORKFLOW\n",
        "# COMPLEX WORKFLOWS\n",
        "\n",
        "# THE \"in\" KEYWORD\n",
        "# in = check if a value is in a variable/data structure\n",
        "product_dict = {\"AG32\": 10,\n",
        "                \"HT91\": 20,\n",
        "                \"PL65\": 30,\n",
        "                \"OS31\": 40,\n",
        "                \"KB07\": 50,\n",
        "                \"TR48\": 60}\n",
        "product_dict\n",
        "\n",
        "if \"OS31\" in product_dict.keys():\n",
        "  print(\"True\")\n",
        "else:\n",
        "  print(\"False\")\n",
        "\n",
        "# THE \"not\" KEYWORD\n",
        "# not = check if a condition is not met\n",
        "# EXAMPLE:\n",
        "\n",
        "if \"OS31\" not in product_dict.keys():\n",
        "  print(\"True\")\n",
        "else:\n",
        "  print(\"False\")\n",
        "\n",
        "# THE \"and\" KEYWORD\n",
        "# and = check if multiple conditions are met\n",
        "\n",
        "if \"HT91\" in product_dict.keys() and min(product_dict.values()) > 5:\n",
        "  print(\"True\")\n",
        "else:\n",
        "  print(\"False\")\n",
        "\n",
        "# THE \"or\" KEYWORD\n",
        "# or = check if one (or more) condition is met\n",
        "if \"HT91\" in product_dict.keys() or min(product_dict.values()) > 10:\n",
        "  print(\"True\")\n",
        "else:\n",
        "  print(\"False\")\n"
      ],
      "metadata": {
        "colab": {
          "base_uri": "https://localhost:8080/"
        },
        "id": "lBM8yF_WjCwj",
        "outputId": "6b583bd0-8753-453a-db93-08f89544b7c6"
      },
      "execution_count": null,
      "outputs": [
        {
          "output_type": "stream",
          "name": "stdout",
          "text": [
            "True\n",
            "False\n",
            "True\n",
            "True\n"
          ]
        }
      ]
    },
    {
      "cell_type": "code",
      "source": [
        "# ADDING/SUBTRACTING from variables\n",
        "# combine keywords wih other techniques to build complex workflows\n",
        "\n",
        "sales_count = 0\n",
        "for sale in range (1, 10):\n",
        "  sales_count += 1\n",
        "  print(\"Total sales:\", sales_count)\n",
        "\n",
        "stock = 10\n",
        "for sale in range (1, 10):\n",
        "  stock -= 1\n",
        "  print(\"Remaining stock:\", stock)"
      ],
      "metadata": {
        "colab": {
          "base_uri": "https://localhost:8080/"
        },
        "id": "wO3gIhRok8UL",
        "outputId": "1788b91e-a5cc-40c3-cb37-b0d0341e8a90"
      },
      "execution_count": null,
      "outputs": [
        {
          "output_type": "stream",
          "name": "stdout",
          "text": [
            "Total sales: 1\n",
            "Total sales: 2\n",
            "Total sales: 3\n",
            "Total sales: 4\n",
            "Total sales: 5\n",
            "Total sales: 6\n",
            "Total sales: 7\n",
            "Total sales: 8\n",
            "Total sales: 9\n"
          ]
        }
      ]
    },
    {
      "cell_type": "code",
      "source": [
        "# APPENDING\n",
        "# STORE INFORMATION THAT MEETS SPECIFIC CRITERIA IN A LIST\n",
        "\n",
        "expensive_products = []\n",
        "\n",
        "for key, val in product_dict.items():\n",
        "  # CHECK IF PRICE IS 20 OR MORE\n",
        "  if val >= 20:\n",
        "    # APPEND THE product ID to the list\n",
        "    expensive_products.append(key)\n",
        "\n",
        "expensive_products"
      ],
      "metadata": {
        "colab": {
          "base_uri": "https://localhost:8080/"
        },
        "id": "IVQ_wRG9lSOL",
        "outputId": "5d12b83a-afe3-48af-ef83-2a8304bc946a"
      },
      "execution_count": null,
      "outputs": [
        {
          "output_type": "execute_result",
          "data": {
            "text/plain": [
              "['HT91', 'PL65', 'OS31', 'KB07', 'TR48']"
            ]
          },
          "metadata": {},
          "execution_count": 11
        }
      ]
    },
    {
      "cell_type": "markdown",
      "source": [
        "# **INTERMEDIATE PYTHON FOR DEVELOPERS**"
      ],
      "metadata": {
        "id": "XqlAFFYMU3lG"
      }
    },
    {
      "cell_type": "code",
      "source": [
        "# BUILT-IN FUNCTIONS\n",
        "\n",
        "# max() and min()\n",
        "sales = [125.97, 84.32, 99.78, 154.21, 78.50,\n",
        "         83.67, 111.13, 140.25, 95.30, 120.45,\n",
        "         88.60, 132.75, 145.99, 102.34, 110.50,\n",
        "         75.89, 90.47, 100.68, 125.44, 115.22]\n",
        "\n",
        "max(sales) # FINDING THE MAXIMUM (HIGHEST) VALUE\n",
        "min(sales) # FINDING THE MINIMUM (SMALLEST) VALUE\n",
        "total_sales = sum(sales) # SUMMING UP ALL THE SALES\n",
        "round(total_sales, 2) # ROUNDING UP TO 2 DECIMAL PLACES"
      ],
      "metadata": {
        "colab": {
          "base_uri": "https://localhost:8080/"
        },
        "id": "pHmLcumMU2kr",
        "outputId": "b04c3a9c-a2e5-416f-c7de-4ea713c10a0e"
      },
      "execution_count": null,
      "outputs": [
        {
          "output_type": "execute_result",
          "data": {
            "text/plain": [
              "2181.46"
            ]
          },
          "metadata": {},
          "execution_count": 4
        }
      ]
    },
    {
      "cell_type": "code",
      "source": [
        "#CALLING A FUNCTION INSIDE A FUNCTION\n",
        "\n",
        "sales = [125.97, 84.32, 99.78, 154.21, 78.50,\n",
        "         83.67, 111.13, 140.25, 95.30, 120.45,\n",
        "         88.60, 132.75, 145.99, 102.34, 110.50,\n",
        "         75.89, 90.47, 100.68, 125.44, 115.22]\n",
        "\n",
        "total_sales = round(sum(sales), 2)\n",
        "total_sales"
      ],
      "metadata": {
        "colab": {
          "base_uri": "https://localhost:8080/"
        },
        "id": "-tMCVnVuX2oe",
        "outputId": "ce4c9b19-c4a9-432a-8f34-7559175cbb36"
      },
      "execution_count": null,
      "outputs": [
        {
          "output_type": "execute_result",
          "data": {
            "text/plain": [
              "2181.46"
            ]
          },
          "metadata": {},
          "execution_count": 5
        }
      ]
    },
    {
      "cell_type": "code",
      "source": [
        "# len()\n",
        "# THIS COUNTS THE NUMBER OF ELEMENTS\n",
        "len(sales)"
      ],
      "metadata": {
        "colab": {
          "base_uri": "https://localhost:8080/"
        },
        "id": "F8ngHIsJYHhR",
        "outputId": "999870b1-e583-4930-c3a7-306ed85e7000"
      },
      "execution_count": null,
      "outputs": [
        {
          "output_type": "execute_result",
          "data": {
            "text/plain": [
              "20"
            ]
          },
          "metadata": {},
          "execution_count": 6
        }
      ]
    },
    {
      "cell_type": "code",
      "source": [
        "# CALCULATING THE AVERAGE SALES WITH SUM AND LEN\n",
        "average_sales = round(total_sales/len(sales), 2)\n",
        "average_sales"
      ],
      "metadata": {
        "colab": {
          "base_uri": "https://localhost:8080/"
        },
        "id": "1edJ56faYRY-",
        "outputId": "0930f17b-9551-4eaa-be20-5d7c27480704"
      },
      "execution_count": null,
      "outputs": [
        {
          "output_type": "execute_result",
          "data": {
            "text/plain": [
              "109.07"
            ]
          },
          "metadata": {},
          "execution_count": 8
        }
      ]
    },
    {
      "cell_type": "code",
      "source": [
        "# USING LEN ON STRINGS\n",
        "len(\"Lorem ipsum dolor sit amet, consectetur adipiscing elit.\")\n",
        "\n",
        "# USING LEN TO FIND HOW MANY KEY-VALUE PAIRS ARE IN THE DICTIONARY\n",
        "len({\n",
        "    \"name\": \"John Doe\",\n",
        "    \"age\": 21,\n",
        "    \"major\": \"Computer Science\",\n",
        "    \"graduation_year\": 2025,\n",
        "    \"gpa\": 3.8\n",
        "})\n",
        "\n",
        "#len() also works with sets and tuples\n",
        "# DOES NOT WORK with floats, integers, or booleans\n"
      ],
      "metadata": {
        "colab": {
          "base_uri": "https://localhost:8080/"
        },
        "id": "NK5P2t17ZyJE",
        "outputId": "017b6380-471b-4e15-eca5-22f3207d13a5"
      },
      "execution_count": null,
      "outputs": [
        {
          "output_type": "execute_result",
          "data": {
            "text/plain": [
              "5"
            ]
          },
          "metadata": {},
          "execution_count": 10
        }
      ]
    },
    {
      "cell_type": "code",
      "source": [
        "# SORTED\n",
        "# sorted()\n",
        "sales = [125.97, 84.32, 99.78, 154.21, 78.50,\n",
        "         83.67, 111.13, 140.25, 95.30, 120.45,\n",
        "         88.60, 132.75, 145.99, 102.34, 110.50,\n",
        "         75.89, 90.47, 100.68, 125.44, 115.22]\n",
        "\n",
        "sorted(sales) # THIS WILL SORT THE LIST IN ORDER\n",
        "\n",
        "sorted(sales, reverse=True) # THIS WILL SORT THE LIST IN REVERSE\n",
        "\n",
        "sorted(\"Drey\")\n",
        "# THIS WILL SORT THE STRING IN ALPHABETICAL ORDER"
      ],
      "metadata": {
        "id": "SguG9O0YYMJV",
        "colab": {
          "base_uri": "https://localhost:8080/"
        },
        "outputId": "e8f91894-ca02-418f-9869-8662dcc4d4a2"
      },
      "execution_count": null,
      "outputs": [
        {
          "output_type": "execute_result",
          "data": {
            "text/plain": [
              "['D', 'e', 'r', 'y']"
            ]
          },
          "metadata": {},
          "execution_count": 4
        }
      ]
    },
    {
      "cell_type": "code",
      "source": [
        "# IF WANT TO GET MORE INFORMATION ABOUT FUNCTION\n",
        "# use help(function)\n",
        "\n",
        "help(sorted)"
      ],
      "metadata": {
        "colab": {
          "base_uri": "https://localhost:8080/"
        },
        "id": "7j3cPj4A6kUZ",
        "outputId": "56b7e603-6dbb-42d5-8966-5b02749ff620"
      },
      "execution_count": null,
      "outputs": [
        {
          "output_type": "stream",
          "name": "stdout",
          "text": [
            "Help on built-in function sorted in module builtins:\n",
            "\n",
            "sorted(iterable, /, *, key=None, reverse=False)\n",
            "    Return a new list containing all items from the iterable in ascending order.\n",
            "    \n",
            "    A custom key function can be supplied to customize the sort order, and the\n",
            "    reverse flag can be set to request the result in descending order.\n",
            "\n"
          ]
        }
      ]
    },
    {
      "cell_type": "code",
      "source": [
        "sales = [125.97, 84.32, 99.78, 154.21, 78.50,\n",
        "         83.67, 111.13, 140.25, 95.30, 120.45,\n",
        "         88.60, 132.75, 145.99, 102.34, 110.50,\n",
        "         75.89, 90.47, 100.68, 125.44, 115.22]\n",
        "\n",
        "sales_count = 0\n",
        "\n",
        "for sale in sales:\n",
        "  sales_count += sale\n",
        "  print(sales_count) # IF SUMS FUNCTION DOESNT EXIST\n",
        "\n",
        "sum(sales)"
      ],
      "metadata": {
        "colab": {
          "base_uri": "https://localhost:8080/"
        },
        "id": "WrYZv0db63zl",
        "outputId": "0019b51f-67b8-4b67-d7a7-8be3a716d86e"
      },
      "execution_count": null,
      "outputs": [
        {
          "output_type": "stream",
          "name": "stdout",
          "text": [
            "125.97\n",
            "210.29\n",
            "310.07\n",
            "464.28\n",
            "542.78\n",
            "626.4499999999999\n",
            "737.5799999999999\n",
            "877.8299999999999\n",
            "973.1299999999999\n",
            "1093.58\n",
            "1182.1799999999998\n",
            "1314.9299999999998\n",
            "1460.9199999999998\n",
            "1563.2599999999998\n",
            "1673.7599999999998\n",
            "1749.6499999999999\n",
            "1840.12\n",
            "1940.8\n",
            "2066.24\n",
            "2181.4599999999996\n"
          ]
        },
        {
          "output_type": "execute_result",
          "data": {
            "text/plain": [
              "2181.4599999999996"
            ]
          },
          "metadata": {},
          "execution_count": 7
        }
      ]
    },
    {
      "cell_type": "markdown",
      "source": [
        "# **MODULES**"
      ],
      "metadata": {
        "id": "Gvi1qmESWm9V"
      }
    },
    {
      "cell_type": "code",
      "source": [
        "# MODULES - PYTHON SCRIPTS, FILES ENDING WITH .PY\n",
        "# IT ALSO CONTAIN FUNCTIONS AND ATTRIBUTES, AND CONTAIN OTHER MODULES\n",
        "# 200 BUILT-IN MODULES\n",
        "\n",
        "# POPULAR MODULES\n",
        "# os - for interpreting and interacting with the OS\n",
        "# collections - advance data structure types and functions\n",
        "# ls - list all files in a directory\n",
        "# string - performing string operations\n",
        "# logging - to log information when testing or running software\n",
        "# subprocess - to run terminal commands within a python file\n",
        "\n",
        "# IMPORTING A MODULE\n",
        "# import <module name>\n",
        "import os\n",
        "type(os)\n",
        "\n"
      ],
      "metadata": {
        "colab": {
          "base_uri": "https://localhost:8080/"
        },
        "id": "95-LHqh0Wlob",
        "outputId": "6a8f5515-0f80-44bd-8be4-7ddfdd702cde"
      },
      "execution_count": null,
      "outputs": [
        {
          "output_type": "execute_result",
          "data": {
            "text/plain": [
              "module"
            ]
          },
          "metadata": {},
          "execution_count": 1
        }
      ]
    },
    {
      "cell_type": "code",
      "source": [
        "# FINDING A MODULES FUNCTIONS\n",
        "help(os)\n",
        "# WE CAN USE THE FUNCTION OF THE MODULE BY FOLLOWING THESE SCHEMA\n",
        "# os.<function>\n",
        "\n",
        "word_dir = os.getcwd()\n",
        "\n",
        "# CHANGING DIRECTORY\n",
        "os.chdir(\"/content/sample_data\")\n",
        "\n",
        "# OS module also has attributes, and functions to perform  a tasks\n",
        "#example\n",
        "os.environ\n",
        "\n",
        "# importing a single function from a module\n",
        "# by following this schema\n",
        "# example\n",
        "from os import chdir, getcwd"
      ],
      "metadata": {
        "id": "W6xsW3iBX6SG"
      },
      "execution_count": null,
      "outputs": []
    },
    {
      "cell_type": "markdown",
      "source": [
        "# **PACKAGES**"
      ],
      "metadata": {
        "id": "QIQBNmAeZPzg"
      }
    },
    {
      "cell_type": "code",
      "source": [],
      "metadata": {
        "id": "z2IilQebYZI5"
      },
      "execution_count": null,
      "outputs": []
    },
    {
      "cell_type": "code",
      "source": [
        "# PACKAGES\n",
        "# Module = Python File\n",
        "# PACKAGES - collections of modules\n",
        "# ALSO KNOWN AS LIBRARY\n",
        "# PACKAGES ARE PUBLICLY AVAILABLE AND FREE\n",
        "# First need to be downloaded from PyPI (Python Package Index)\n",
        "\n",
        "#installing a package from a temrinal\n",
        "# TERMINAL - PROGRAM TO RUN COMMANDS IN OUR COMPUTER\n",
        "# python3 -m pip install <package_name>\n",
        "# python3 - Used to execute python code from terminal\n",
        "\n",
        "# INSTALLING A PACKAGE\n",
        "# python3 -m pip install pandas\n",
        "\n",
        "# IMPORTING with an Alias\n",
        "# example\n",
        "\n",
        "import pandas as pd\n",
        "\n",
        "sales_2 = {\"used_id\" : [\"KM37\", \"PR19\", \"YU88\"],\n",
        "           \"order_value\" : [197.75, 208.21, 134.99]}\n",
        "\n",
        "# USING PANDAS TO HAVE SALES IN TABULAR DATA OR DATAFRAME\n",
        "sales_df = pd.DataFrame(sales_2)\n",
        "sales_df\n",
        "\n",
        "# SAVING THE DATA IN A CSV FILE\n",
        "sales_df = pd.read_csv(\"sales.csv\")\n",
        "sales_df\n",
        "\n",
        "# PREVIEW THE FIRST FIVE ROWS IN PANDAS\n",
        "sales_df.head()\n",
        "\n",
        "# FUNCTIONS VERSUS METHODS\n",
        "# FUNCTION = CODE TO PERFORM A TASK\n",
        "# METHOD = A FUNCTION THAT IS SPECIFIC TO A DATATYPE\n"
      ],
      "metadata": {
        "colab": {
          "base_uri": "https://localhost:8080/",
          "height": 143
        },
        "id": "dvvFufewYFXf",
        "outputId": "541c9388-19e0-421b-c9f3-da737c9d1b98"
      },
      "execution_count": null,
      "outputs": [
        {
          "output_type": "execute_result",
          "data": {
            "text/plain": [
              "  used_id  order_value\n",
              "0    KM37       197.75\n",
              "1    PR19       208.21\n",
              "2    YU88       134.99"
            ],
            "text/html": [
              "\n",
              "  <div id=\"df-f288c264-6100-437c-9106-0dfafbd85a74\" class=\"colab-df-container\">\n",
              "    <div>\n",
              "<style scoped>\n",
              "    .dataframe tbody tr th:only-of-type {\n",
              "        vertical-align: middle;\n",
              "    }\n",
              "\n",
              "    .dataframe tbody tr th {\n",
              "        vertical-align: top;\n",
              "    }\n",
              "\n",
              "    .dataframe thead th {\n",
              "        text-align: right;\n",
              "    }\n",
              "</style>\n",
              "<table border=\"1\" class=\"dataframe\">\n",
              "  <thead>\n",
              "    <tr style=\"text-align: right;\">\n",
              "      <th></th>\n",
              "      <th>used_id</th>\n",
              "      <th>order_value</th>\n",
              "    </tr>\n",
              "  </thead>\n",
              "  <tbody>\n",
              "    <tr>\n",
              "      <th>0</th>\n",
              "      <td>KM37</td>\n",
              "      <td>197.75</td>\n",
              "    </tr>\n",
              "    <tr>\n",
              "      <th>1</th>\n",
              "      <td>PR19</td>\n",
              "      <td>208.21</td>\n",
              "    </tr>\n",
              "    <tr>\n",
              "      <th>2</th>\n",
              "      <td>YU88</td>\n",
              "      <td>134.99</td>\n",
              "    </tr>\n",
              "  </tbody>\n",
              "</table>\n",
              "</div>\n",
              "    <div class=\"colab-df-buttons\">\n",
              "\n",
              "  <div class=\"colab-df-container\">\n",
              "    <button class=\"colab-df-convert\" onclick=\"convertToInteractive('df-f288c264-6100-437c-9106-0dfafbd85a74')\"\n",
              "            title=\"Convert this dataframe to an interactive table.\"\n",
              "            style=\"display:none;\">\n",
              "\n",
              "  <svg xmlns=\"http://www.w3.org/2000/svg\" height=\"24px\" viewBox=\"0 -960 960 960\">\n",
              "    <path d=\"M120-120v-720h720v720H120Zm60-500h600v-160H180v160Zm220 220h160v-160H400v160Zm0 220h160v-160H400v160ZM180-400h160v-160H180v160Zm440 0h160v-160H620v160ZM180-180h160v-160H180v160Zm440 0h160v-160H620v160Z\"/>\n",
              "  </svg>\n",
              "    </button>\n",
              "\n",
              "  <style>\n",
              "    .colab-df-container {\n",
              "      display:flex;\n",
              "      gap: 12px;\n",
              "    }\n",
              "\n",
              "    .colab-df-convert {\n",
              "      background-color: #E8F0FE;\n",
              "      border: none;\n",
              "      border-radius: 50%;\n",
              "      cursor: pointer;\n",
              "      display: none;\n",
              "      fill: #1967D2;\n",
              "      height: 32px;\n",
              "      padding: 0 0 0 0;\n",
              "      width: 32px;\n",
              "    }\n",
              "\n",
              "    .colab-df-convert:hover {\n",
              "      background-color: #E2EBFA;\n",
              "      box-shadow: 0px 1px 2px rgba(60, 64, 67, 0.3), 0px 1px 3px 1px rgba(60, 64, 67, 0.15);\n",
              "      fill: #174EA6;\n",
              "    }\n",
              "\n",
              "    .colab-df-buttons div {\n",
              "      margin-bottom: 4px;\n",
              "    }\n",
              "\n",
              "    [theme=dark] .colab-df-convert {\n",
              "      background-color: #3B4455;\n",
              "      fill: #D2E3FC;\n",
              "    }\n",
              "\n",
              "    [theme=dark] .colab-df-convert:hover {\n",
              "      background-color: #434B5C;\n",
              "      box-shadow: 0px 1px 3px 1px rgba(0, 0, 0, 0.15);\n",
              "      filter: drop-shadow(0px 1px 2px rgba(0, 0, 0, 0.3));\n",
              "      fill: #FFFFFF;\n",
              "    }\n",
              "  </style>\n",
              "\n",
              "    <script>\n",
              "      const buttonEl =\n",
              "        document.querySelector('#df-f288c264-6100-437c-9106-0dfafbd85a74 button.colab-df-convert');\n",
              "      buttonEl.style.display =\n",
              "        google.colab.kernel.accessAllowed ? 'block' : 'none';\n",
              "\n",
              "      async function convertToInteractive(key) {\n",
              "        const element = document.querySelector('#df-f288c264-6100-437c-9106-0dfafbd85a74');\n",
              "        const dataTable =\n",
              "          await google.colab.kernel.invokeFunction('convertToInteractive',\n",
              "                                                    [key], {});\n",
              "        if (!dataTable) return;\n",
              "\n",
              "        const docLinkHtml = 'Like what you see? Visit the ' +\n",
              "          '<a target=\"_blank\" href=https://colab.research.google.com/notebooks/data_table.ipynb>data table notebook</a>'\n",
              "          + ' to learn more about interactive tables.';\n",
              "        element.innerHTML = '';\n",
              "        dataTable['output_type'] = 'display_data';\n",
              "        await google.colab.output.renderOutput(dataTable, element);\n",
              "        const docLink = document.createElement('div');\n",
              "        docLink.innerHTML = docLinkHtml;\n",
              "        element.appendChild(docLink);\n",
              "      }\n",
              "    </script>\n",
              "  </div>\n",
              "\n",
              "\n",
              "<div id=\"df-a86c7313-0fc9-4ea4-a2a2-e1ea77ec1f0d\">\n",
              "  <button class=\"colab-df-quickchart\" onclick=\"quickchart('df-a86c7313-0fc9-4ea4-a2a2-e1ea77ec1f0d')\"\n",
              "            title=\"Suggest charts\"\n",
              "            style=\"display:none;\">\n",
              "\n",
              "<svg xmlns=\"http://www.w3.org/2000/svg\" height=\"24px\"viewBox=\"0 0 24 24\"\n",
              "     width=\"24px\">\n",
              "    <g>\n",
              "        <path d=\"M19 3H5c-1.1 0-2 .9-2 2v14c0 1.1.9 2 2 2h14c1.1 0 2-.9 2-2V5c0-1.1-.9-2-2-2zM9 17H7v-7h2v7zm4 0h-2V7h2v10zm4 0h-2v-4h2v4z\"/>\n",
              "    </g>\n",
              "</svg>\n",
              "  </button>\n",
              "\n",
              "<style>\n",
              "  .colab-df-quickchart {\n",
              "      --bg-color: #E8F0FE;\n",
              "      --fill-color: #1967D2;\n",
              "      --hover-bg-color: #E2EBFA;\n",
              "      --hover-fill-color: #174EA6;\n",
              "      --disabled-fill-color: #AAA;\n",
              "      --disabled-bg-color: #DDD;\n",
              "  }\n",
              "\n",
              "  [theme=dark] .colab-df-quickchart {\n",
              "      --bg-color: #3B4455;\n",
              "      --fill-color: #D2E3FC;\n",
              "      --hover-bg-color: #434B5C;\n",
              "      --hover-fill-color: #FFFFFF;\n",
              "      --disabled-bg-color: #3B4455;\n",
              "      --disabled-fill-color: #666;\n",
              "  }\n",
              "\n",
              "  .colab-df-quickchart {\n",
              "    background-color: var(--bg-color);\n",
              "    border: none;\n",
              "    border-radius: 50%;\n",
              "    cursor: pointer;\n",
              "    display: none;\n",
              "    fill: var(--fill-color);\n",
              "    height: 32px;\n",
              "    padding: 0;\n",
              "    width: 32px;\n",
              "  }\n",
              "\n",
              "  .colab-df-quickchart:hover {\n",
              "    background-color: var(--hover-bg-color);\n",
              "    box-shadow: 0 1px 2px rgba(60, 64, 67, 0.3), 0 1px 3px 1px rgba(60, 64, 67, 0.15);\n",
              "    fill: var(--button-hover-fill-color);\n",
              "  }\n",
              "\n",
              "  .colab-df-quickchart-complete:disabled,\n",
              "  .colab-df-quickchart-complete:disabled:hover {\n",
              "    background-color: var(--disabled-bg-color);\n",
              "    fill: var(--disabled-fill-color);\n",
              "    box-shadow: none;\n",
              "  }\n",
              "\n",
              "  .colab-df-spinner {\n",
              "    border: 2px solid var(--fill-color);\n",
              "    border-color: transparent;\n",
              "    border-bottom-color: var(--fill-color);\n",
              "    animation:\n",
              "      spin 1s steps(1) infinite;\n",
              "  }\n",
              "\n",
              "  @keyframes spin {\n",
              "    0% {\n",
              "      border-color: transparent;\n",
              "      border-bottom-color: var(--fill-color);\n",
              "      border-left-color: var(--fill-color);\n",
              "    }\n",
              "    20% {\n",
              "      border-color: transparent;\n",
              "      border-left-color: var(--fill-color);\n",
              "      border-top-color: var(--fill-color);\n",
              "    }\n",
              "    30% {\n",
              "      border-color: transparent;\n",
              "      border-left-color: var(--fill-color);\n",
              "      border-top-color: var(--fill-color);\n",
              "      border-right-color: var(--fill-color);\n",
              "    }\n",
              "    40% {\n",
              "      border-color: transparent;\n",
              "      border-right-color: var(--fill-color);\n",
              "      border-top-color: var(--fill-color);\n",
              "    }\n",
              "    60% {\n",
              "      border-color: transparent;\n",
              "      border-right-color: var(--fill-color);\n",
              "    }\n",
              "    80% {\n",
              "      border-color: transparent;\n",
              "      border-right-color: var(--fill-color);\n",
              "      border-bottom-color: var(--fill-color);\n",
              "    }\n",
              "    90% {\n",
              "      border-color: transparent;\n",
              "      border-bottom-color: var(--fill-color);\n",
              "    }\n",
              "  }\n",
              "</style>\n",
              "\n",
              "  <script>\n",
              "    async function quickchart(key) {\n",
              "      const quickchartButtonEl =\n",
              "        document.querySelector('#' + key + ' button');\n",
              "      quickchartButtonEl.disabled = true;  // To prevent multiple clicks.\n",
              "      quickchartButtonEl.classList.add('colab-df-spinner');\n",
              "      try {\n",
              "        const charts = await google.colab.kernel.invokeFunction(\n",
              "            'suggestCharts', [key], {});\n",
              "      } catch (error) {\n",
              "        console.error('Error during call to suggestCharts:', error);\n",
              "      }\n",
              "      quickchartButtonEl.classList.remove('colab-df-spinner');\n",
              "      quickchartButtonEl.classList.add('colab-df-quickchart-complete');\n",
              "    }\n",
              "    (() => {\n",
              "      let quickchartButtonEl =\n",
              "        document.querySelector('#df-a86c7313-0fc9-4ea4-a2a2-e1ea77ec1f0d button');\n",
              "      quickchartButtonEl.style.display =\n",
              "        google.colab.kernel.accessAllowed ? 'block' : 'none';\n",
              "    })();\n",
              "  </script>\n",
              "</div>\n",
              "\n",
              "  <div id=\"id_d42bf516-bc48-46d7-b40d-828a57fef663\">\n",
              "    <style>\n",
              "      .colab-df-generate {\n",
              "        background-color: #E8F0FE;\n",
              "        border: none;\n",
              "        border-radius: 50%;\n",
              "        cursor: pointer;\n",
              "        display: none;\n",
              "        fill: #1967D2;\n",
              "        height: 32px;\n",
              "        padding: 0 0 0 0;\n",
              "        width: 32px;\n",
              "      }\n",
              "\n",
              "      .colab-df-generate:hover {\n",
              "        background-color: #E2EBFA;\n",
              "        box-shadow: 0px 1px 2px rgba(60, 64, 67, 0.3), 0px 1px 3px 1px rgba(60, 64, 67, 0.15);\n",
              "        fill: #174EA6;\n",
              "      }\n",
              "\n",
              "      [theme=dark] .colab-df-generate {\n",
              "        background-color: #3B4455;\n",
              "        fill: #D2E3FC;\n",
              "      }\n",
              "\n",
              "      [theme=dark] .colab-df-generate:hover {\n",
              "        background-color: #434B5C;\n",
              "        box-shadow: 0px 1px 3px 1px rgba(0, 0, 0, 0.15);\n",
              "        filter: drop-shadow(0px 1px 2px rgba(0, 0, 0, 0.3));\n",
              "        fill: #FFFFFF;\n",
              "      }\n",
              "    </style>\n",
              "    <button class=\"colab-df-generate\" onclick=\"generateWithVariable('sales_df')\"\n",
              "            title=\"Generate code using this dataframe.\"\n",
              "            style=\"display:none;\">\n",
              "\n",
              "  <svg xmlns=\"http://www.w3.org/2000/svg\" height=\"24px\"viewBox=\"0 0 24 24\"\n",
              "       width=\"24px\">\n",
              "    <path d=\"M7,19H8.4L18.45,9,17,7.55,7,17.6ZM5,21V16.75L18.45,3.32a2,2,0,0,1,2.83,0l1.4,1.43a1.91,1.91,0,0,1,.58,1.4,1.91,1.91,0,0,1-.58,1.4L9.25,21ZM18.45,9,17,7.55Zm-12,3A5.31,5.31,0,0,0,4.9,8.1,5.31,5.31,0,0,0,1,6.5,5.31,5.31,0,0,0,4.9,4.9,5.31,5.31,0,0,0,6.5,1,5.31,5.31,0,0,0,8.1,4.9,5.31,5.31,0,0,0,12,6.5,5.46,5.46,0,0,0,6.5,12Z\"/>\n",
              "  </svg>\n",
              "    </button>\n",
              "    <script>\n",
              "      (() => {\n",
              "      const buttonEl =\n",
              "        document.querySelector('#id_d42bf516-bc48-46d7-b40d-828a57fef663 button.colab-df-generate');\n",
              "      buttonEl.style.display =\n",
              "        google.colab.kernel.accessAllowed ? 'block' : 'none';\n",
              "\n",
              "      buttonEl.onclick = () => {\n",
              "        google.colab.notebook.generateWithVariable('sales_df');\n",
              "      }\n",
              "      })();\n",
              "    </script>\n",
              "  </div>\n",
              "\n",
              "    </div>\n",
              "  </div>\n"
            ],
            "application/vnd.google.colaboratory.intrinsic+json": {
              "type": "dataframe",
              "variable_name": "sales_df",
              "summary": "{\n  \"name\": \"sales_df\",\n  \"rows\": 3,\n  \"fields\": [\n    {\n      \"column\": \"used_id\",\n      \"properties\": {\n        \"dtype\": \"string\",\n        \"num_unique_values\": 3,\n        \"samples\": [\n          \"KM37\",\n          \"PR19\",\n          \"YU88\"\n        ],\n        \"semantic_type\": \"\",\n        \"description\": \"\"\n      }\n    },\n    {\n      \"column\": \"order_value\",\n      \"properties\": {\n        \"dtype\": \"number\",\n        \"std\": 39.600920864713906,\n        \"min\": 134.99,\n        \"max\": 208.21,\n        \"num_unique_values\": 3,\n        \"samples\": [\n          197.75,\n          208.21,\n          134.99\n        ],\n        \"semantic_type\": \"\",\n        \"description\": \"\"\n      }\n    }\n  ]\n}"
            }
          },
          "metadata": {},
          "execution_count": 3
        }
      ]
    },
    {
      "cell_type": "markdown",
      "source": [
        "# **DEFINING A CUSTOM FUNCTION**"
      ],
      "metadata": {
        "id": "HwZ4YDuAtAY2"
      }
    },
    {
      "cell_type": "code",
      "source": [
        "# DEFINING A CUSTOME FUNCTION\n",
        "sales = [125.97, 84.32, 99.78, 154.21, 78.50,\n",
        "         83.67, 111.13, 140.25, 95.30, 120.45,\n",
        "         88.60, 132.75, 145.99, 102.34, 110.50,\n",
        "         75.89, 90.47, 100.68, 125.44, 115.22]\n",
        "\n",
        "# CREATE A CUSTOME FUNCTIONS\n",
        "# DONT REPEAT YOURSELF\n",
        "\n",
        "def average(values):\n",
        "  average_value = sum(values)/len(values) # THIS IS AN ARGUMENT\n",
        "  rounded_value = round(average_value, 2) # THIS IS AN ARGUMENT\n",
        "  return rounded_value # THIS IS TO RETURN AN OUTPUT\n",
        "  # return round(average_value, 2) could also work\n",
        "average_sales = average(sales)\n",
        "average_sales"
      ],
      "metadata": {
        "colab": {
          "base_uri": "https://localhost:8080/"
        },
        "id": "Y9LAMBxWtAAm",
        "outputId": "c5e7cc58-f94c-435b-fda2-ca88e8016183"
      },
      "execution_count": null,
      "outputs": [
        {
          "output_type": "execute_result",
          "data": {
            "text/plain": [
              "109.07"
            ]
          },
          "metadata": {},
          "execution_count": 4
        }
      ]
    },
    {
      "cell_type": "code",
      "source": [
        "# Create the clean_string function\n",
        "def clean_string(text):\n",
        "\n",
        "  # Replace spaces with underscores\n",
        "  no_spaces = text.replace(\" \", \"_\")\n",
        "\n",
        "  # Convert to lowercase\n",
        "  clean_text = no_spaces.lower()\n",
        "\n",
        "  # Return the final text as an output\n",
        "  return clean_text\n",
        "\n",
        "converted_text = clean_string(\"I lOvE yOu sO mUCh!\")\n",
        "print(converted_text)"
      ],
      "metadata": {
        "colab": {
          "base_uri": "https://localhost:8080/"
        },
        "id": "r6NmcVQtu6Ht",
        "outputId": "88a6bddf-31e5-491b-bbcf-439c883ba22e"
      },
      "execution_count": null,
      "outputs": [
        {
          "output_type": "stream",
          "name": "stdout",
          "text": [
            "i_love_you_so_much!\n"
          ]
        }
      ]
    },
    {
      "cell_type": "code",
      "source": [
        "password = \"not_very_secure_2023\"\n",
        "\n",
        "# Define the password_checker function\n",
        "def password_checker(submission):\n",
        "\n",
        "  # Check that the password variable and the submission match\n",
        "  if submission == password:\n",
        "    print(\"Successful login!\")\n",
        "\n",
        "  # Otherwise, print \"Incorrect password\"\n",
        "  else:\n",
        "    print(\"Incorrect password\")\n",
        "  return submission\n",
        "# Call the function\n",
        "password_checker(\"NOT_VERY_SECURE_2023\")"
      ],
      "metadata": {
        "id": "YXJsc-pkvkRD"
      },
      "execution_count": null,
      "outputs": []
    },
    {
      "cell_type": "markdown",
      "source": [
        "# **DEFAULT AND KEYWORD ARGUMENTS**"
      ],
      "metadata": {
        "id": "RpegvyeivufH"
      }
    },
    {
      "cell_type": "code",
      "source": [
        "# POSITIONAL ARGUMENTS, which provide arguments in order seperated by comma\n",
        "# EXAMPLE is the round(3.1432, 2)\n",
        "\n",
        "# KEYWORD ARGUMENTS, requires to define\n",
        "# each arguments value using its name keywords\n",
        "# keyword = value\n",
        "\n",
        "# Round pi to 2 digits\n",
        "round(number = 3.1415926535, ndigits = 2)\n",
        "\n",
        "# THERE IS ALSO AN ARGUMENT THAT IS DEFAULT\n",
        "# DEFAULT ARGUMENT: WAY OF SETTING A DEFAULT VALUE FOR AN ARGUMENT\n",
        "# EXAMPLE: the round() always havea  default for \"ndigits\" which is 0\n"
      ],
      "metadata": {
        "colab": {
          "base_uri": "https://localhost:8080/"
        },
        "id": "ThjcD9Smxg87",
        "outputId": "17f78161-2166-412c-9afb-63d16e57f39a"
      },
      "execution_count": null,
      "outputs": [
        {
          "output_type": "execute_result",
          "data": {
            "text/plain": [
              "3"
            ]
          },
          "metadata": {},
          "execution_count": 8
        }
      ]
    },
    {
      "cell_type": "code",
      "source": [
        "sales = [125.97, 84.32, 99.78, 154.21, 78.50,\n",
        "         83.67, 111.13, 140.25, 95.30, 120.45,\n",
        "         88.60, 132.75, 145.99, 102.34, 110.50,\n",
        "         75.89, 90.47, 100.68, 125.44, 115.22]\n",
        "\n",
        "# CREATE A CUSTOME FUNCTIONS\n",
        "# DONT REPEAT YOURSELF\n",
        "\n",
        "def average(values, rounded = False):\n",
        "  if rounded == True:\n",
        "    average_value = sum(values)/len(values) # THIS IS AN ARGUMENT\n",
        "    rounded_value = round(average_value, 2) # THIS IS AN ARGUMENT\n",
        "    return rounded_value # THIS IS TO RETURN AN OUTPUT\n",
        "  else:\n",
        "    average_value = sum(values)/len(values) # THIS IS AN ARGUMENT\n",
        "    return average_value # THIS IS TO RETURN AN OUTPUT\n",
        "  # return round(average_value, 2) could also work\n",
        "average_sales = average(sales, True)\n",
        "average_sales"
      ],
      "metadata": {
        "colab": {
          "base_uri": "https://localhost:8080/"
        },
        "id": "SW9dRwPFyX7l",
        "outputId": "289b2168-db16-4534-f8bb-cfe8503b252c"
      },
      "execution_count": null,
      "outputs": [
        {
          "output_type": "execute_result",
          "data": {
            "text/plain": [
              "109.07"
            ]
          },
          "metadata": {},
          "execution_count": 11
        }
      ]
    },
    {
      "cell_type": "code",
      "source": [
        "# Create the convert_data_structure function\n",
        "def convert_data_structure(data, data_type = \"list\"):\n",
        "\n",
        "  # If data_type is \"tuple\"\n",
        "  if data_type == \"tuple\":\n",
        "    data = tuple(data)\n",
        "\n",
        "  # Else if data_type is set, convert to a set\n",
        "  elif data_type == \"set\":\n",
        "    data = set(data)\n",
        "  else:\n",
        "    data = list(data)\n",
        "  return data\n",
        "\n",
        "# Call the function to convert to a set\n",
        "convert_data_structure({\"a\", 1, \"b\", 2, \"c\", 3}, data_type=\"set\")"
      ],
      "metadata": {
        "colab": {
          "base_uri": "https://localhost:8080/"
        },
        "id": "vVBoV58g0Ibc",
        "outputId": "2562db50-8839-48a3-da0f-6adfb269619a"
      },
      "execution_count": null,
      "outputs": [
        {
          "output_type": "execute_result",
          "data": {
            "text/plain": [
              "{1, 2, 3, 'a', 'b', 'c'}"
            ]
          },
          "metadata": {},
          "execution_count": 12
        }
      ]
    },
    {
      "cell_type": "code",
      "source": [
        "# OWN PROBLEMS\n",
        "\n",
        "# PROBLEM 1\n",
        "def calculate_total_price(prices, tax_rate):\n",
        "  total_price = sum(prices) + (sum(prices) * (tax_rate/100))\n",
        "  return round(number = total_price, ndigits = 2)\n",
        "\n",
        "prices = [100, 200, 300]\n",
        "tax_rate = 10\n",
        "\n",
        "calculate_total_price(prices, tax_rate)"
      ],
      "metadata": {
        "colab": {
          "base_uri": "https://localhost:8080/"
        },
        "id": "D7mIeaknXShB",
        "outputId": "8ededf17-3635-497e-84fe-5ac818719e98"
      },
      "execution_count": null,
      "outputs": [
        {
          "output_type": "execute_result",
          "data": {
            "text/plain": [
              "660.0"
            ]
          },
          "metadata": {},
          "execution_count": 22
        }
      ]
    },
    {
      "cell_type": "code",
      "source": [
        "text = \"ChIsTian DrEy iS cUtE!\"\n",
        "vowels = [\"a\", \"e\", \"i\", \"o\", \"u\"]\n",
        "\n",
        "def count_vowels(text):\n",
        "  text = text.lower()\n",
        "  count = 0\n",
        "  for letter in text:\n",
        "    if letter in vowels:\n",
        "      count += 1\n",
        "  return count\n",
        "\n",
        "count_vowels(text)"
      ],
      "metadata": {
        "colab": {
          "base_uri": "https://localhost:8080/"
        },
        "id": "HU2OJzsdabWg",
        "outputId": "28dbdc10-1141-4a35-d755-0831f0a76f3e"
      },
      "execution_count": null,
      "outputs": [
        {
          "output_type": "execute_result",
          "data": {
            "text/plain": [
              "7"
            ]
          },
          "metadata": {},
          "execution_count": 30
        }
      ]
    },
    {
      "cell_type": "code",
      "source": [
        "text = \"A man, a plan, a canal, Panama\"\n",
        "\n",
        "def is_palindrome(text):\n",
        "  text = text.lower().replace(\" \", \"\").replace(\",\", \"\")\n",
        "  if text == text[::-1]:\n",
        "    return True\n",
        "  else:\n",
        "    return False\n",
        "\n",
        "if is_palindrome(text) == True:\n",
        "  print(text, \"is a palindrome\")\n",
        "else:\n",
        "  print(text, \"is not a palindrome\")\n",
        "\n"
      ],
      "metadata": {
        "colab": {
          "base_uri": "https://localhost:8080/"
        },
        "id": "zqKSWJjJcTT8",
        "outputId": "a113dad3-a99b-4aa8-8547-dd421cadf8ae"
      },
      "execution_count": null,
      "outputs": [
        {
          "output_type": "stream",
          "name": "stdout",
          "text": [
            "A man, a plan, a canal, Panama is a palindrome\n"
          ]
        }
      ]
    },
    {
      "cell_type": "markdown",
      "source": [
        "# **DOCSTRINGS**"
      ],
      "metadata": {
        "id": "XM42_5gi0Mba"
      }
    },
    {
      "cell_type": "code",
      "source": [
        "# DOCSTRINGS\n",
        "\n",
        "# DOCSTRINGS - STRING (BLOCK OF TEXT) BDESCRIBING A FUNCTION\n",
        "# DOCSTRING HELPS USER HOW TO USE A FUNCTION\n",
        "round.__doc__ #__doc__ is called \"dunder-doc\" attribute\n"
      ],
      "metadata": {
        "colab": {
          "base_uri": "https://localhost:8080/",
          "height": 70
        },
        "id": "661ePa8w5UQN",
        "outputId": "61825f74-7b36-43fa-f526-0770bc8394a2"
      },
      "execution_count": null,
      "outputs": [
        {
          "output_type": "execute_result",
          "data": {
            "text/plain": [
              "'Round a number to a given precision in decimal digits.\\n\\nThe return value is an integer if ndigits is omitted or None.  Otherwise\\nthe return value has the same type as the number.  ndigits may be negative.'"
            ],
            "application/vnd.google.colaboratory.intrinsic+json": {
              "type": "string"
            }
          },
          "metadata": {},
          "execution_count": 5
        }
      ]
    },
    {
      "cell_type": "code",
      "source": [
        "# USING DOCSTRING TO THE PAST sales data\n",
        "# DEFINING A CUSTOME FUNCTION\n",
        "sales = [125.97, 84.32, 99.78, 154.21, 78.50,\n",
        "         83.67, 111.13, 140.25, 95.30, 120.45,\n",
        "         88.60, 132.75, 145.99, 102.34, 110.50,\n",
        "         75.89, 90.47, 100.68, 125.44, 115.22]\n",
        "\n",
        "# CREATE A CUSTOME FUNCTIONS\n",
        "# DONT REPEAT YOURSELF\n",
        "\n",
        "def average(values):\n",
        "  \"\"\"Find the mean in a sequence of values and round to two decimal places\"\"\"\n",
        "  average_value = sum(values)/len(values)\n",
        "  rounded_value = round(average_value, 2)\n",
        "  return rounded_value\n",
        "average_sales = average(sales)\n",
        "average_sales\n",
        "\n",
        "average.__doc__"
      ],
      "metadata": {
        "colab": {
          "base_uri": "https://localhost:8080/",
          "height": 35
        },
        "id": "in9u_Hdv6o0l",
        "outputId": "b6f582dd-2692-4936-a188-c36b989369db"
      },
      "execution_count": null,
      "outputs": [
        {
          "output_type": "execute_result",
          "data": {
            "text/plain": [
              "'Find the mean in a sequence of values and round to two decimal places'"
            ],
            "application/vnd.google.colaboratory.intrinsic+json": {
              "type": "string"
            }
          },
          "metadata": {},
          "execution_count": 6
        }
      ]
    },
    {
      "cell_type": "code",
      "source": [
        "# We could assign another value in the average.__doc__ by:\n",
        "\n",
        "average.__doc__ = \"Calculate the mean of value in a data structure, rounding the results to 2 digits\""
      ],
      "metadata": {
        "id": "BIt67Ik67B_K"
      },
      "execution_count": null,
      "outputs": []
    },
    {
      "cell_type": "code",
      "source": [
        "# EXAMPLE OF A DOCSTRING\n",
        "\n",
        "# Create the convert_data_type function\n",
        "def convert_data_structure(data, data_type=\"list\"):\n",
        "  # Add a multi-line docstring\n",
        "  \"\"\"\n",
        "  Convert a data structure to a list, tuple, or set.\n",
        "\n",
        "  Args:\n",
        "  \tdata (list, tuple, or set): A data structure to be converted.\n",
        "    data_type (str): String representing the type of structure to convert data to.\n",
        "\n",
        "  Returns:\n",
        "  \tdata (list, tuple, or set): Converted data structure.\n",
        "  \"\"\"\n",
        "  if data_type == \"tuple\":\n",
        "    data = tuple(data)\n",
        "  elif data_type == \"set\":\n",
        "    data = set(data)\n",
        "  else:\n",
        "    data = list(data)\n",
        "  return data\n",
        "\n",
        "print(help(convert_data_structure))"
      ],
      "metadata": {
        "colab": {
          "base_uri": "https://localhost:8080/"
        },
        "id": "Qc3UqFPr8VFq",
        "outputId": "899c087e-c200-412e-d583-a017936a203b"
      },
      "execution_count": null,
      "outputs": [
        {
          "output_type": "stream",
          "name": "stdout",
          "text": [
            "Help on function convert_data_structure in module __main__:\n",
            "\n",
            "convert_data_structure(data, data_type='list')\n",
            "    Convert a data structure to a list, tuple, or set.\n",
            "    \n",
            "    Args:\n",
            "          data (list, tuple, or set): A data structure to be converted.\n",
            "      data_type (str): String representing the type of structure to convert data to.\n",
            "      \n",
            "    Returns:\n",
            "          data (list, tuple, or set): Converted data structure.\n",
            "\n",
            "None\n"
          ]
        }
      ]
    },
    {
      "cell_type": "markdown",
      "source": [
        "# **Arbitrary Arguments**"
      ],
      "metadata": {
        "id": "Sqo8xi3n8mcM"
      }
    },
    {
      "cell_type": "code",
      "source": [
        "# ARBITRARY ARGUMENTS\n",
        "\n",
        "# ADDING FLEXIBILITY TO CUSTOM FUNCTIONS\n",
        "# ARBITRARY POSITION ARGUMENTS\n",
        "# ARBITRARY KEYWORD ARGUMENTS\n",
        "\n",
        "# ARBITRARY ARGUMENTS ALLOW FUNCTIONS TO ACCEPT ANY NUMBER OF ARGUMENTS"
      ],
      "metadata": {
        "id": "Fv2-aBIR8mFa"
      },
      "execution_count": null,
      "outputs": []
    },
    {
      "cell_type": "code",
      "source": [
        "\n",
        "# Allow any number of positional, non-keyword arguments\n",
        "def average(*args):\n",
        "  average_value = sum(args)/len(args)\n",
        "  rounded_value = round(average_value, 2)\n",
        "  return rounded_value\n",
        "\n",
        "average(15, 29, 4, 13, 11, 8)\n",
        "\n",
        "# Args create a single iterable\n",
        "# * : Convert arguments to a single iterable (tuple)\n",
        "\n",
        "\n",
        "\n"
      ],
      "metadata": {
        "colab": {
          "base_uri": "https://localhost:8080/"
        },
        "id": "f7w0pIJj_xDg",
        "outputId": "014fc67f-c904-4b3b-ef46-c165db8f48b5"
      },
      "execution_count": null,
      "outputs": [
        {
          "output_type": "execute_result",
          "data": {
            "text/plain": [
              "13.33"
            ]
          },
          "metadata": {},
          "execution_count": 11
        }
      ]
    },
    {
      "cell_type": "code",
      "source": [
        "# Arbitrary keyword arguments\n",
        "# Arbitrary keyword argument: **kwargs\n",
        "# keyword = value\n",
        "def average(**kwargs):\n",
        "  average_value = sum(kwargs.values())/len(kwargs.values())\n",
        "  rounded_value = round(average_value, 2)\n",
        "  return rounded_value\n",
        "\n",
        "average(a=15, b=29, c=4, d=13, e=11, f=8)\n",
        "\n",
        "# CALLING AVERAGE WITH ONE KWARG\n",
        "average(**{\"a\": 15, \"b\": 29, \"c\": 4, \"d\": 13, \"e\": 11, \"f\": 8})\n",
        "\n",
        "# ** : Convert keyword arguments to a single dictionary\n",
        "\n",
        "# KWARGS CREATE A SINGLE ITERABLE\n",
        "# CALLING AVERAGE WITH THREE KWARGS\n",
        "average(**{\"a\":15, \"b\":29}, **{\"c\":4, \"d\":13}, **{\"e\":11, \"f\":8})"
      ],
      "metadata": {
        "colab": {
          "base_uri": "https://localhost:8080/"
        },
        "id": "juZCdfDF8W9f",
        "outputId": "27e76e00-9893-49e9-b4b6-5c1b2de10dbf"
      },
      "execution_count": null,
      "outputs": [
        {
          "output_type": "execute_result",
          "data": {
            "text/plain": [
              "13.33"
            ]
          },
          "metadata": {},
          "execution_count": 14
        }
      ]
    },
    {
      "cell_type": "code",
      "source": [
        "# EXAMPLE FOR ARGS\n",
        "# Define a function called concat\n",
        "def concat(*args):\n",
        "\n",
        "  # Create an empty string\n",
        "  result = \"\"\n",
        "\n",
        "  # Iterate over the Python args tuple\n",
        "  for arg in args:\n",
        "    result += \" \" + arg\n",
        "  return result\n",
        "\n",
        "# Call the function\n",
        "print(concat(\"Python\", \"is\", \"great!\"))"
      ],
      "metadata": {
        "id": "1ygRMurIBxwo"
      },
      "execution_count": null,
      "outputs": []
    },
    {
      "cell_type": "code",
      "source": [
        "# Define a function called concat\n",
        "def concat(**kwargs):\n",
        "\n",
        "  # Create an empty string\n",
        "  result = \"\"\n",
        "\n",
        "  # Iterate over the Python kwargs\n",
        "  for kwarg in kwargs.values():\n",
        "    result += \" \" + kwarg\n",
        "  return result\n",
        "\n",
        "# Call the function\n",
        "print(concat(start=\"Python\", middle=\"is\", end=\"great!\"))"
      ],
      "metadata": {
        "colab": {
          "base_uri": "https://localhost:8080/"
        },
        "id": "CgMFDFIjDe_E",
        "outputId": "df2cb7bc-84e2-4d56-a2d6-669fd3e33741"
      },
      "execution_count": null,
      "outputs": [
        {
          "output_type": "stream",
          "name": "stdout",
          "text": [
            " Python is great!\n"
          ]
        }
      ]
    },
    {
      "cell_type": "code",
      "source": [
        "def sum_numbers(*args):\n",
        "  return sum(args)\n",
        "\n",
        "sum_numbers(1, 2, 3, 4, 5)"
      ],
      "metadata": {
        "colab": {
          "base_uri": "https://localhost:8080/"
        },
        "id": "zvGaWBMjkdkD",
        "outputId": "c4abbcbf-f34b-4a3a-e84d-efbb7db4ef7e"
      },
      "execution_count": null,
      "outputs": [
        {
          "output_type": "execute_result",
          "data": {
            "text/plain": [
              "15"
            ]
          },
          "metadata": {},
          "execution_count": 20
        }
      ]
    },
    {
      "cell_type": "code",
      "source": [
        "def display_info(**kwargs):\n",
        "    for key, value in kwargs.items():\n",
        "        print(f\"{key}: {value}\")\n",
        "\n",
        "# Call the function\n",
        "display_info(name=\"Alice\", age=25, city=\"Wonderland\")"
      ],
      "metadata": {
        "colab": {
          "base_uri": "https://localhost:8080/"
        },
        "id": "iaGU8t2ml7q0",
        "outputId": "d36bf7cb-1ba4-493c-971a-7bf5165184af"
      },
      "execution_count": null,
      "outputs": [
        {
          "output_type": "stream",
          "name": "stdout",
          "text": [
            "name: Alice\n",
            "age: 25\n",
            "city: Wonderland\n"
          ]
        }
      ]
    },
    {
      "cell_type": "code",
      "source": [
        "def mix_arguments(greeting, *args, **kwargs):\n",
        "    print(greeting)\n",
        "    print(\"Positional arguments:\", args)\n",
        "    print(\"Keyword arguments:\", kwargs)\n",
        "\n",
        "# Call the function\n",
        "mix_arguments(\"Welcome\", \"Alice\", \"Bob\", age=30, location=\"Wonderland\")"
      ],
      "metadata": {
        "colab": {
          "base_uri": "https://localhost:8080/"
        },
        "id": "s9-EGOAll9t6",
        "outputId": "c1114470-d241-45b0-cfdd-9596a6e55cf1"
      },
      "execution_count": null,
      "outputs": [
        {
          "output_type": "stream",
          "name": "stdout",
          "text": [
            "Welcome\n",
            "Positional arguments: ('Alice', 'Bob')\n",
            "Keyword arguments: {'age': 30, 'location': 'Wonderland'}\n"
          ]
        }
      ]
    },
    {
      "cell_type": "code",
      "source": [
        "def build_profile(*args, **kwargs):\n",
        "  print('first_name:', args)\n",
        "  for key, value in kwargs.items():\n",
        "    print(f\"{key}: {value}\")\n",
        "build_profile(\"Alice\", age=30, city=\"Wonderland\", hobby=\"Painting\")\n"
      ],
      "metadata": {
        "colab": {
          "base_uri": "https://localhost:8080/"
        },
        "id": "OdxZlK5olfAc",
        "outputId": "3c67b515-ac1c-4537-8560-e08b0694ec37"
      },
      "execution_count": null,
      "outputs": [
        {
          "output_type": "stream",
          "name": "stdout",
          "text": [
            "first_name: ('Alice',)\n",
            "age: 30\n",
            "city: Wonderland\n",
            "hobby: Painting\n"
          ]
        }
      ]
    },
    {
      "cell_type": "code",
      "source": [
        "def build_profile(first_name, **kwargs):\n",
        "    profile = {\"first_name\": first_name}  # Start with the required argument\n",
        "    profile.update(kwargs)               # Add additional information\n",
        "    return profile\n",
        "\n",
        "# Test\n",
        "result = build_profile(\"Alice\", age=30, city=\"Wonderland\", hobby=\"Painting\")\n",
        "print(result)"
      ],
      "metadata": {
        "colab": {
          "base_uri": "https://localhost:8080/"
        },
        "id": "bH0Myc2BpSdC",
        "outputId": "aa0ba5f2-2483-4241-a4e8-a1f4f74eace2"
      },
      "execution_count": null,
      "outputs": [
        {
          "output_type": "stream",
          "name": "stdout",
          "text": [
            "{'first_name': 'Alice', 'age': 30, 'city': 'Wonderland', 'hobby': 'Painting'}\n"
          ]
        }
      ]
    },
    {
      "cell_type": "code",
      "source": [
        "def filter_even(*args):\n",
        "  evens = []\n",
        "  for i in args:\n",
        "    if i % 2 == 0:\n",
        "      evens.append(i)\n",
        "  return evens\n",
        "filter_even(1, 2, 3, 4, 5, 6, 7, 8)"
      ],
      "metadata": {
        "colab": {
          "base_uri": "https://localhost:8080/"
        },
        "id": "qK8sN_h5pivt",
        "outputId": "19af79a2-edab-42b2-b5a8-28c32ca5a14a"
      },
      "execution_count": null,
      "outputs": [
        {
          "output_type": "execute_result",
          "data": {
            "text/plain": [
              "[2, 4, 6, 8]"
            ]
          },
          "metadata": {},
          "execution_count": 40
        }
      ]
    },
    {
      "cell_type": "code",
      "source": [
        "\n",
        "def custom_greet(*args, **kwargs):\n",
        "  for i in args:\n",
        "    print(f\"Hello {i}\")\n",
        "  for key, value in kwargs.items():\n",
        "    print(f\"Hello, {key}! {value}\")\n",
        "\n",
        "custom_greet(\"Alice\", \"Bob\", \"Charlie\", Alice=\"How are you?\", Charlie=\"Good to see you!\")\n"
      ],
      "metadata": {
        "colab": {
          "base_uri": "https://localhost:8080/"
        },
        "id": "jlwdVAiGqOJm",
        "outputId": "978ab35b-cd4b-41ec-ce86-7dec6b0f193d"
      },
      "execution_count": null,
      "outputs": [
        {
          "output_type": "stream",
          "name": "stdout",
          "text": [
            "Hello Alice\n",
            "Hello Bob\n",
            "Hello Charlie\n",
            "Hello, Alice! How are you?\n",
            "Hello, Charlie! Good to see you!\n"
          ]
        }
      ]
    },
    {
      "cell_type": "code",
      "source": [
        "def custom_greet(*args, **kwargs):\n",
        "    for name in args:\n",
        "        if name in kwargs:\n",
        "            # Greet with a custom message if provided\n",
        "            print(f\"Hello, {name}! {kwargs[name]}\")\n",
        "        else:\n",
        "            # Generic greeting if no custom message\n",
        "            print(f\"Hello, {name}!\")\n",
        "\n",
        "# Test\n",
        "custom_greet(\"Alice\", \"Bob\", \"Charlie\", Alice=\"How are you?\", Charlie=\"Good to see you!\")"
      ],
      "metadata": {
        "id": "ogE1dTFz-YrW",
        "outputId": "a7ec7577-bb6e-4de7-f62c-ad50522e5d2d",
        "colab": {
          "base_uri": "https://localhost:8080/"
        }
      },
      "execution_count": null,
      "outputs": [
        {
          "output_type": "stream",
          "name": "stdout",
          "text": [
            "Hello, Alice! How are you?\n",
            "Hello, Bob!\n",
            "Hello, Charlie! Good to see you!\n"
          ]
        }
      ]
    },
    {
      "cell_type": "markdown",
      "source": [
        "# **LAMBDA FUNCTIONS**\n",
        "\n"
      ],
      "metadata": {
        "id": "01jX2zateLxU"
      }
    },
    {
      "cell_type": "code",
      "source": [
        "# LAMBDA FUNCTIONS\n",
        "\n",
        "sales = [125.97, 84.32, 99.78, 154.21, 78.50,\n",
        "         83.67, 111.13, 140.25, 95.30, 120.45,\n",
        "         88.60, 132.75, 145.99, 102.34, 110.50,\n",
        "         75.89, 90.47, 100.68, 125.44, 115.22]\n",
        "\n",
        "# CREATE A CUSTOME FUNCTIONS\n",
        "# DONT REPEAT YOURSELF\n",
        "\n",
        "def average(values):\n",
        "  \"\"\"Find the mean in a sequence of values and round to two decimal places\"\"\"\n",
        "  average_value = sum(values)/len(values)\n",
        "  rounded_value = round(average_value, 2)\n",
        "  return rounded_value\n",
        "average_sales = average(sales)\n",
        "average_sales"
      ],
      "metadata": {
        "colab": {
          "base_uri": "https://localhost:8080/"
        },
        "id": "cfo-5E4TeRvI",
        "outputId": "ec087606-7e05-4d26-ce43-ffa4a60418bb"
      },
      "execution_count": null,
      "outputs": [
        {
          "output_type": "execute_result",
          "data": {
            "text/plain": [
              "109.07"
            ]
          },
          "metadata": {},
          "execution_count": 1
        }
      ]
    },
    {
      "cell_type": "code",
      "source": [
        "# lambda keyword\n",
        "# IT REPRESENTS AN ANONYMOUS FUNCTION\n",
        "# lambda argument(s): expression\n",
        "# Conversion is to use x for a single argument\n",
        "# the expression is the equivalent of the function body\n",
        "\n",
        "(lambda x: sum(x)/len(x))([3, 6, 9])\n",
        "\n",
        "# STORING A LAMBDA FUNCTION AS A VARIABLE IF YOU'RE GOING TO USE IT MORE THAN\n",
        "# ONCE\n",
        "average = lambda x: sum(x)/len(x)\n",
        "average([3, 6, 9])\n",
        "\n",
        "# WE CAN USE lambda function with two arguments\n",
        "(lambda x, y: x**y)(2,3)\n",
        "\n",
        "# Lambda functions with iterables\n",
        "# We need to use lambda inside python's map() function\n",
        "# map() applies a function to all elements in an iterable\n",
        "\n",
        "names = [\"christian\", \"koiso\", \"poli\"]\n",
        "capitalize = map(lambda x: x.capitalize(), names)\n",
        "# CONVERT IT TO A LIST TO SEE THE OUTPUT\n",
        "list(capitalize)\n",
        "\n",
        "upper = map(lambda x: x.upper(), names)\n",
        "list(upper)\n",
        "\n",
        "# WHEN TO USE the lambda functions over the custom functions\n",
        "# IF THE FUNCTION IS COMPLEX, SAME TASK SEVERAL TIMES,\n",
        "# WE WILL USE THE CUSTOM FUNCTION\n",
        "# BUT IF THE TASK IS SIMPLE AND ONLY PERFORMED ONCE\n",
        "# USE lambda functions\n"
      ],
      "metadata": {
        "colab": {
          "base_uri": "https://localhost:8080/"
        },
        "id": "9j-ZPsq2ed3I",
        "outputId": "8e44f2b4-8a92-4bc8-fdc1-8d8ad1c7b798"
      },
      "execution_count": null,
      "outputs": [
        {
          "output_type": "execute_result",
          "data": {
            "text/plain": [
              "['CHRISTIAN', 'KOISO', 'POLI']"
            ]
          },
          "metadata": {},
          "execution_count": 8
        }
      ]
    },
    {
      "cell_type": "markdown",
      "source": [
        "# **INTRODUCTION TO ERRORS**"
      ],
      "metadata": {
        "id": "5rYvo5eickhZ"
      }
    },
    {
      "cell_type": "code",
      "source": [
        "# INTRODUCTION TO ERRORS\n",
        "# An error is a code that violates one or more rules\n",
        "# errors = exception\n",
        "# It cause or code to terminate\n",
        "\n",
        "# Type Error\n",
        "# when you use incorrect data type\n",
        "# Example\n",
        "\"Hello\" + 5\n",
        "\n",
        "# Value Error\n",
        "float(\"Hello\") # The value is not acceptable in an acceptable range\n",
        "# Tracebacks - A report that provide what type of error occured and where\n",
        "\n",
        "# Code in packages\n",
        "# Code in the packages ar eknown as source code\n",
        "\n",
        "# Tracebacks from packages\n",
        "# Example\n",
        "import pandas as pd\n",
        "products = pd.DataFrame({\"ID\":\"ABC1\", \"price\":29.99})\n",
        "products[\"tag\"] # this will have a huge traceback\n",
        "\n",
        "# ERROR HANDLING IN CUSTOM FUNCTIONS\n",
        "# there is an except, raise if an error occurs in pandas\n",
        "# Design-thinking\n",
        "\n",
        "sales_dict = {\"cust_id\":[\"JL93\", \"MT12\", \"IY64\"],\n",
        "              \"order_value\": [43.21, 68.70, 82.19]}\n",
        "average(sales_dict)\n",
        "\n",
        "# ERROR-HANDLING TECHNIQUES\n",
        "# control flow, if elif and else\n",
        "# Docstrings\n",
        "# try-except\n",
        "\n",
        "def average(values):\n",
        "  try:\n",
        "    average_value = sum(values)/len(values)\n",
        "    rounded_value = round(average_value, 2)\n",
        "    return rounded_value\n",
        "  except:\n",
        "    print(\"average() accepts\")\n",
        "\n",
        "# USING raise\n",
        "def average(values):\n",
        "  if\n",
        "\n"
      ],
      "metadata": {
        "id": "x2O2Jt_FdL7g"
      },
      "execution_count": null,
      "outputs": []
    },
    {
      "cell_type": "code",
      "source": [
        "def snake_case(text):\n",
        "  # Check the data type\n",
        "  if type(text) == str:\n",
        "    clean_text = text.replace(\" \", \"_\")\n",
        "    clean_text = clean_text.lower()\n",
        "  else:\n",
        "    # Return a TypeError error if the wrong data type was used\n",
        "    raise TypeError(\"The snake_case() function expects a string as an argument, please check the data type provided.\")\n",
        "\n",
        "snake_case(\"User Name 187\")"
      ],
      "metadata": {
        "id": "dM_mm4Xshxsv"
      },
      "execution_count": null,
      "outputs": []
    },
    {
      "cell_type": "code",
      "source": [
        "def twoSum(self, nums, target):\n",
        "        \"\"\"\n",
        "        :type nums: List[int]\n",
        "        :type target: int\n",
        "        :rtype: List[int]\n",
        "        \"\"\"\n"
      ],
      "metadata": {
        "id": "j9PpolWg6vd2"
      },
      "execution_count": null,
      "outputs": []
    },
    {
      "cell_type": "code",
      "source": [
        "nums = [3, 5, 1, 4, -8]\n",
        "\n",
        "def twoSum(self, nums, target):\n",
        "  \"\"\"\n",
        "  :type nums: List[int]\n",
        "  :type target: int\n",
        "  :rtype: List[int]\n",
        "  \"\"\"\n",
        "  for i in range(len(nums)):\n",
        "    for j in range(i+1, len(nums)):\n",
        "      if nums[i] + nums[j] == target:\n",
        "        return [i, j]\n",
        "  return []\n",
        "\n"
      ],
      "metadata": {
        "colab": {
          "base_uri": "https://localhost:8080/",
          "height": 176
        },
        "id": "1MeJbqBf63Ku",
        "outputId": "2930113d-b2f9-419d-8bca-1075dad9edda"
      },
      "execution_count": null,
      "outputs": [
        {
          "output_type": "error",
          "ename": "TypeError",
          "evalue": "twoSum() missing 2 required positional arguments: 'nums' and 'target'",
          "traceback": [
            "\u001b[0;31m---------------------------------------------------------------------------\u001b[0m",
            "\u001b[0;31mTypeError\u001b[0m                                 Traceback (most recent call last)",
            "\u001b[0;32m<ipython-input-2-abb86ccbad36>\u001b[0m in \u001b[0;36m<cell line: 14>\u001b[0;34m()\u001b[0m\n\u001b[1;32m     12\u001b[0m         \u001b[0;32mreturn\u001b[0m \u001b[0;34m[\u001b[0m\u001b[0mi\u001b[0m\u001b[0;34m,\u001b[0m \u001b[0mj\u001b[0m\u001b[0;34m]\u001b[0m\u001b[0;34m\u001b[0m\u001b[0;34m\u001b[0m\u001b[0m\n\u001b[1;32m     13\u001b[0m   \u001b[0;32mreturn\u001b[0m \u001b[0;34m[\u001b[0m\u001b[0;34m]\u001b[0m\u001b[0;34m\u001b[0m\u001b[0;34m\u001b[0m\u001b[0m\n\u001b[0;32m---> 14\u001b[0;31m \u001b[0mtwoSum\u001b[0m\u001b[0;34m(\u001b[0m\u001b[0;36m8\u001b[0m\u001b[0;34m)\u001b[0m\u001b[0;34m\u001b[0m\u001b[0;34m\u001b[0m\u001b[0m\n\u001b[0m",
            "\u001b[0;31mTypeError\u001b[0m: twoSum() missing 2 required positional arguments: 'nums' and 'target'"
          ]
        }
      ]
    },
    {
      "cell_type": "code",
      "source": [
        "def hi_low(num):\n",
        "  num = num.split()\n",
        "  for i in range(len(num)):\n",
        "    num[i] = int(num[i])\n",
        "  return str(max(num)) + ' ' + str(min(num))\n",
        "\n",
        "hi_low(\"26\")"
      ],
      "metadata": {
        "colab": {
          "base_uri": "https://localhost:8080/",
          "height": 35
        },
        "id": "Ln3pvd8vMNs-",
        "outputId": "c826490c-5432-4e14-d5df-935e7a4d1451"
      },
      "execution_count": null,
      "outputs": [
        {
          "output_type": "execute_result",
          "data": {
            "text/plain": [
              "'26 26'"
            ],
            "application/vnd.google.colaboratory.intrinsic+json": {
              "type": "string"
            }
          },
          "metadata": {},
          "execution_count": 10
        }
      ]
    },
    {
      "cell_type": "code",
      "source": [
        "def hi_low(num):\n",
        "    # Convert the number to a string to make it iterable\n",
        "    num_str = str(num)\n",
        "    # Convert each character to an integer\n",
        "    num_list = [int(digit) for digit in num_str]\n",
        "    # Find the maximum and minimum values\n",
        "    highest = max(num_list)\n",
        "    lowest = min(num_list)\n",
        "    return f\"{highest} {lowest}\"\n",
        "\n",
        "print(hi_low(762))"
      ],
      "metadata": {
        "id": "Qm_64RObN_Fn",
        "outputId": "c871e12a-09fe-4396-aa57-8ceece5e44a2",
        "colab": {
          "base_uri": "https://localhost:8080/"
        }
      },
      "execution_count": null,
      "outputs": [
        {
          "output_type": "stream",
          "name": "stdout",
          "text": [
            "7 2\n"
          ]
        }
      ]
    }
  ]
}